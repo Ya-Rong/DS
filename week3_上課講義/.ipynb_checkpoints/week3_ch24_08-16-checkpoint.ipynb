{
 "cells": [
  {
   "cell_type": "code",
   "execution_count": 1,
   "id": "012bfea8",
   "metadata": {},
   "outputs": [
    {
     "name": "stdout",
     "output_type": "stream",
     "text": [
      "平均成績 = 59.25\n",
      "中位成績 = 60.0\n",
      "眾數成績 = 80\n"
     ]
    },
    {
     "data": {
      "image/png": "[encoded data removed]",
      "text/plain": [
       "<Figure size 432x288 with 1 Axes>"
      ]
     },
     "metadata": {
      "needs_background": "light"
     },
     "output_type": "display_data"
    }
   ],
   "source": [
    "# ch24_8.py\n",
    "import numpy as np\n",
    "import statistics as st\n",
    "import matplotlib.pyplot as plt\n",
    "\n",
    "sc = [60,10,40,80,80,30,80,60,70,90,50,50,50,70,60,80,80,50,60,70,\n",
    "      70,40,30,70,60,80,20,80,70,50,90,80,40,40,70,60,80,30,20,70]\n",
    "print(f'平均成績 = {np.mean(sc)}')\n",
    "print(f'中位成績 = {np.median(sc)}')\n",
    "print(f'眾數成績 = {st.mode(sc)}')\n",
    "plt.rcParams['font.family'] = 'Microsoft JhengHei'\n",
    "plt.hist(sc, 9)\n",
    "\n",
    "plt.ylabel('學生人數')\n",
    "plt.xlabel('分數')\n",
    "plt.title('成績表')\n",
    "plt.show()"
   ]
  },
  {
   "cell_type": "code",
   "execution_count": 2,
   "id": "f8e9058d",
   "metadata": {},
   "outputs": [
    {
     "data": {
      "image/png": "[encoded data removed]",
      "text/plain": [
       "<Figure size 432x288 with 1 Axes>"
      ]
     },
     "metadata": {
      "needs_background": "light"
     },
     "output_type": "display_data"
    }
   ],
   "source": [
    "# ch24_9.py\n",
    "import numpy as np\n",
    "import statistics as st\n",
    "import matplotlib.pyplot as plt\n",
    "\n",
    "sc1 = [60,10,40,80,80,30,80,60,70,90,50,50,50,70,60,80,80,50,60,70,\n",
    "      70,40,30,70,60,80,20,80,70,50,90,80,40,40,70,60,80,30,20,70]\n",
    "\n",
    "sc2 = [50,10,60,80,70,30,80,60,30,90,50,50,90,70,60,50,80,50,60,70,\n",
    "      60,50,30,70,70,80,10,80,70,50,90,80,40,50,70,60,80,40,20,70]\n",
    "\n",
    "plt.rcParams['font.family'] = 'Microsoft JhengHei'\n",
    "plt.hist([sc1,sc2],9)\n",
    "\n",
    "plt.ylabel('學生人數')\n",
    "plt.xlabel('分數')\n",
    "plt.title('成績表')\n",
    "plt.show()"
   ]
  },
  {
   "cell_type": "code",
   "execution_count": 3,
   "id": "f4bc9849",
   "metadata": {},
   "outputs": [
    {
     "name": "stdout",
     "output_type": "stream",
     "text": [
      "Numpy模組母體變異數  : 823.49\n",
      "Numpy模組樣本變異數  : 914.99\n",
      "Statistics母體變異數 : 823.49\n",
      "Statistics樣本變異數 : 914.99\n"
     ]
    }
   ],
   "source": [
    "# ch24_10.py\n",
    "import numpy as np\n",
    "import statistics as st\n",
    "x = [66, 58, 25, 78, 58, 15, 120, 39, 82, 50]\n",
    "\n",
    "print(f\"Numpy模組母體變異數  : {np.var(x):6.2f}\")\n",
    "print(f\"Numpy模組樣本變異數  : {np.var(x,ddof=1):6.2f}\")\n",
    "print(f\"Statistics母體變異數 : {st.pvariance(x):6.2f}\")\n",
    "print(f\"Statistics樣本變異數 : {st.variance(x):6.2f}\")"
   ]
  },
  {
   "cell_type": "code",
   "execution_count": 4,
   "id": "2c520073",
   "metadata": {},
   "outputs": [
    {
     "name": "stdout",
     "output_type": "stream",
     "text": [
      "Numpy模組母體標準差  :  28.70\n",
      "Numpy模組樣本標準差  :  30.25\n",
      "Statistics母體標準差 :  28.70\n",
      "Statistics樣本標準差 :  30.25\n"
     ]
    }
   ],
   "source": [
    "# ch24_11.py\n",
    "import numpy as np\n",
    "import statistics as st\n",
    "\n",
    "x = [66, 58, 25, 78, 58, 15, 120, 39, 82, 50]\n",
    "print(f\"Numpy模組母體標準差  : {np.std(x):6.2f}\")\n",
    "print(f\"Numpy模組樣本標準差  : {np.std(x,ddof=1):6.2f}\")\n",
    "print(f\"Statistics母體標準差 : {st.pstdev(x):6.2f}\")\n",
    "print(f\"Statistics樣本標準差 : {st.stdev(x):6.2f}\")"
   ]
  },
  {
   "cell_type": "code",
   "execution_count": 5,
   "id": "0b2a4630",
   "metadata": {},
   "outputs": [
    {
     "name": "stdout",
     "output_type": "stream",
     "text": [
      "相關係數 = [[1.   0.87]\n",
      " [0.87 1.  ]]\n"
     ]
    },
    {
     "data": {
      "image/png": "[encoded data removed]",
      "text/plain": [
       "<Figure size 432x288 with 1 Axes>"
      ]
     },
     "metadata": {
      "needs_background": "light"
     },
     "output_type": "display_data"
    }
   ],
   "source": [
    "# ch24_12.py\n",
    "import numpy as np\n",
    "import matplotlib.pyplot as plt\n",
    "\n",
    "temperature = [25,31,28,22,27,30,29,33,32,26]           # 天氣溫度\n",
    "rev = [900,1200,950,600,720,1000,1020,1500,1420,1100]   # 營業額\n",
    "\n",
    "print(f\"相關係數 = {np.corrcoef(temperature,rev).round(2)}\")\n",
    "\n",
    "plt.rcParams[\"font.family\"] = [\"Microsoft JhengHei\"]    # 微軟正黑體\n",
    "plt.scatter(temperature, rev)\n",
    "plt.title('天氣溫度與冰品銷售')\n",
    "plt.xlabel(\"溫度\", fontsize=14)\n",
    "plt.ylabel(\"營業額\", fontsize=14)\n",
    "plt.show()"
   ]
  },
  {
   "cell_type": "code",
   "execution_count": 6,
   "id": "c5256043",
   "metadata": {},
   "outputs": [
    {
     "name": "stdout",
     "output_type": "stream",
     "text": [
      "[  71.63 -986.22]\n",
      " \n",
      "71.63 x - 986.2\n"
     ]
    }
   ],
   "source": [
    "# ch24_13.py\n",
    "import numpy as np\n",
    "\n",
    "temperature = [25,31,28,22,27,30,29,33,32,26]           # 天氣溫度\n",
    "rev = [900,1200,950,600,720,1000,1020,1500,1420,1100]   # 營業額 \n",
    "\n",
    "coef = np.polyfit(temperature, rev, 1)                  # 迴歸直線係數\n",
    "reg = np.poly1d(coef)                                   # 線性迴歸方程式\n",
    "print(coef.round(2))\n",
    "print(reg)              \n"
   ]
  },
  {
   "cell_type": "code",
   "execution_count": 7,
   "id": "357df4a3",
   "metadata": {},
   "outputs": [
    {
     "name": "stdout",
     "output_type": "stream",
     "text": [
      "當溫度是 35 度時冰品銷售金額 = 1521.0\n"
     ]
    }
   ],
   "source": [
    "# ch24_14.py\n",
    "import numpy as np\n",
    "\n",
    "temperature = [25,31,28,22,27,30,29,33,32,26]           # 天氣溫度\n",
    "rev = [900,1200,950,600,720,1000,1020,1500,1420,1100]   # 營業額 \n",
    "\n",
    "coef = np.polyfit(temperature, rev, 1)                  # 迴歸直線係數\n",
    "reg = np.poly1d(coef)                                   # 線性迴歸方程式\n",
    "print(f\"當溫度是 35 度時冰品銷售金額 = {reg(35).round(0)}\")"
   ]
  },
  {
   "cell_type": "code",
   "execution_count": 8,
   "id": "0a438d1f",
   "metadata": {},
   "outputs": [
    {
     "data": {
      "image/png": "[encoded data removed]",
      "text/plain": [
       "<Figure size 432x288 with 1 Axes>"
      ]
     },
     "metadata": {
      "needs_background": "light"
     },
     "output_type": "display_data"
    }
   ],
   "source": [
    "# ch24_15.py\n",
    "import numpy as np\n",
    "import matplotlib.pyplot as plt\n",
    "temperature = [25,31,28,22,27,30,29,33,32,26]           # 天氣溫度\n",
    "rev = [900,1200,950,600,720,1000,1020,1500,1420,1100]   # 營業額 \n",
    "\n",
    "coef = np.polyfit(temperature, rev, 1)                  # 迴歸直線係數\n",
    "reg = np.poly1d(coef)                                   # 線性迴歸方程式\n",
    "     \n",
    "plt.rcParams[\"font.family\"] = [\"Microsoft JhengHei\"]    # 微軟正黑體\n",
    "plt.scatter(temperature, rev)\n",
    "plt.plot(temperature,reg(temperature),color='red')\n",
    "plt.title('天氣溫度與冰品銷售')\n",
    "plt.xlabel(\"溫度\", fontsize=14)\n",
    "plt.ylabel(\"營業額\", fontsize=14)\n",
    "plt.show()"
   ]
  },
  {
   "cell_type": "code",
   "execution_count": 9,
   "id": "1a91f112",
   "metadata": {},
   "outputs": [
    {
     "name": "stdout",
     "output_type": "stream",
     "text": [
      "       2\n",
      "4.642 x - 185.7 x + 2531\n"
     ]
    },
    {
     "data": {
      "image/png": "[encoded data removed]",
      "text/plain": [
       "<Figure size 432x288 with 1 Axes>"
      ]
     },
     "metadata": {
      "needs_background": "light"
     },
     "output_type": "display_data"
    }
   ],
   "source": [
    "# ch24_16.py\n",
    "import numpy as np\n",
    "import matplotlib.pyplot as plt\n",
    "temperature = [22,25,26,27,28,29,30,31,32,33]           # 天氣溫度\n",
    "rev = [600,900,1100,720,950,1020,1000,1200,1420,1500]   # 營業額\n",
    "\n",
    "coef = np.polyfit(temperature, rev, 2)                  # 迴歸直線係數\n",
    "reg = np.poly1d(coef)                                   # 線性迴歸方程式\n",
    "print(reg)     \n",
    "plt.rcParams[\"font.family\"] = [\"Microsoft JhengHei\"]    # 微軟正黑體\n",
    "plt.scatter(temperature, rev)\n",
    "plt.plot(temperature,reg(temperature),color='red')\n",
    "plt.title('天氣溫度與冰品銷售')\n",
    "plt.xlabel(\"溫度\", fontsize=14)\n",
    "plt.ylabel(\"營業額\", fontsize=14)\n",
    "plt.show()"
   ]
  },
  {
   "cell_type": "code",
   "execution_count": null,
   "id": "f2cd3a10",
   "metadata": {},
   "outputs": [],
   "source": []
  }
 ],
 "metadata": {
  "kernelspec": {
   "display_name": "Python 3 (ipykernel)",
   "language": "python",
   "name": "python3"
  },
  "language_info": {
   "codemirror_mode": {
    "name": "ipython",
    "version": 3
   },
   "file_extension": ".py",
   "mimetype": "text/x-python",
   "name": "python",
   "nbconvert_exporter": "python",
   "pygments_lexer": "ipython3",
   "version": "3.9.12"
  }
 },
 "nbformat": 4,
 "nbformat_minor": 5
}
