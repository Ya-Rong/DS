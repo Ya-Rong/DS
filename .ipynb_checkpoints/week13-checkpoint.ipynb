{
 "cells": [
  {
   "cell_type": "markdown",
   "id": "65557842",
   "metadata": {},
   "source": [
    "請用以下的變項（Hour 、Temperature Humidity(%) 、Wind speed (m/s)、 Visibility (10m) 、Dew point temperature Solar Radiation (MJ/m2) 、Rainfall(mm) 、Snowfall (cm) ）預測腳踏車租用次數（Rented Bike Count），並撰寫出回歸方程式？\n",
    "\n",
    "請問哪一個季節（春、夏、秋、冬）的腳踏車租用次數最高？請繪製直方圖。\n",
    "\n",
    "不同季節（春、夏、秋、冬）的腳踏車租用次數是否有顯著差異？請繪製變異數分析摘要表。\n",
    "\n",
    "請繪製不同時間腳踏車租用次數（Rented Bike Count）的趨勢圖？\n",
    "\n",
    "請使用以下的變項繪製熱力圖（Hour Temperature Humidity(%) 、Wind speed (m/s)、 Visibility (10m) 、Dew point temperature ，並標示相關係數。"
   ]
  },
  {
   "cell_type": "code",
   "execution_count": 3,
   "id": "267f2ca4",
   "metadata": {},
   "outputs": [
    {
     "ename": "KeyError",
     "evalue": "\"['Snowfall(cm)'] not in index\"",
     "output_type": "error",
     "traceback": [
      "\u001b[1;31m---------------------------------------------------------------------------\u001b[0m",
      "\u001b[1;31mKeyError\u001b[0m                                  Traceback (most recent call last)",
      "Input \u001b[1;32mIn [3]\u001b[0m, in \u001b[0;36m<cell line: 13>\u001b[1;34m()\u001b[0m\n\u001b[0;32m      8\u001b[0m \u001b[38;5;66;03m# 提取所需變數\u001b[39;00m\n\u001b[0;32m      9\u001b[0m variables \u001b[38;5;241m=\u001b[39m [\u001b[38;5;124m'\u001b[39m\u001b[38;5;124mHour\u001b[39m\u001b[38;5;124m'\u001b[39m, \u001b[38;5;124m'\u001b[39m\u001b[38;5;124mTemperature\u001b[39m\u001b[38;5;124m'\u001b[39m, \u001b[38;5;124m'\u001b[39m\u001b[38;5;124mHumidity(\u001b[39m\u001b[38;5;124m%\u001b[39m\u001b[38;5;124m)\u001b[39m\u001b[38;5;124m'\u001b[39m, \u001b[38;5;124m'\u001b[39m\u001b[38;5;124mWind speed (m/s)\u001b[39m\u001b[38;5;124m'\u001b[39m, \u001b[38;5;124m'\u001b[39m\u001b[38;5;124mVisibility (10m)\u001b[39m\u001b[38;5;124m'\u001b[39m,\n\u001b[0;32m     10\u001b[0m             \u001b[38;5;124m'\u001b[39m\u001b[38;5;124mDew point temperature\u001b[39m\u001b[38;5;124m'\u001b[39m, \u001b[38;5;124m'\u001b[39m\u001b[38;5;124mSolar Radiation (MJ/m2)\u001b[39m\u001b[38;5;124m'\u001b[39m, \u001b[38;5;124m'\u001b[39m\u001b[38;5;124mRainfall(mm)\u001b[39m\u001b[38;5;124m'\u001b[39m, \u001b[38;5;124m'\u001b[39m\u001b[38;5;124mSnowfall(cm)\u001b[39m\u001b[38;5;124m'\u001b[39m]\n\u001b[1;32m---> 13\u001b[0m subset_data \u001b[38;5;241m=\u001b[39m \u001b[43mdata\u001b[49m\u001b[43m[\u001b[49m\u001b[43mvariables\u001b[49m\u001b[43m]\u001b[49m\n\u001b[0;32m     14\u001b[0m subset_data \u001b[38;5;241m=\u001b[39m sm\u001b[38;5;241m.\u001b[39madd_constant(subset_data) \u001b[38;5;66;03m# 添加常數項\u001b[39;00m\n\u001b[0;32m     16\u001b[0m \u001b[38;5;66;03m# 建立線性迴歸模型\u001b[39;00m\n",
      "File \u001b[1;32mC:\\ProgramData\\Anaconda3\\lib\\site-packages\\pandas\\core\\frame.py:3511\u001b[0m, in \u001b[0;36mDataFrame.__getitem__\u001b[1;34m(self, key)\u001b[0m\n\u001b[0;32m   3509\u001b[0m     \u001b[38;5;28;01mif\u001b[39;00m is_iterator(key):\n\u001b[0;32m   3510\u001b[0m         key \u001b[38;5;241m=\u001b[39m \u001b[38;5;28mlist\u001b[39m(key)\n\u001b[1;32m-> 3511\u001b[0m     indexer \u001b[38;5;241m=\u001b[39m \u001b[38;5;28;43mself\u001b[39;49m\u001b[38;5;241;43m.\u001b[39;49m\u001b[43mcolumns\u001b[49m\u001b[38;5;241;43m.\u001b[39;49m\u001b[43m_get_indexer_strict\u001b[49m\u001b[43m(\u001b[49m\u001b[43mkey\u001b[49m\u001b[43m,\u001b[49m\u001b[43m \u001b[49m\u001b[38;5;124;43m\"\u001b[39;49m\u001b[38;5;124;43mcolumns\u001b[39;49m\u001b[38;5;124;43m\"\u001b[39;49m\u001b[43m)\u001b[49m[\u001b[38;5;241m1\u001b[39m]\n\u001b[0;32m   3513\u001b[0m \u001b[38;5;66;03m# take() does not accept boolean indexers\u001b[39;00m\n\u001b[0;32m   3514\u001b[0m \u001b[38;5;28;01mif\u001b[39;00m \u001b[38;5;28mgetattr\u001b[39m(indexer, \u001b[38;5;124m\"\u001b[39m\u001b[38;5;124mdtype\u001b[39m\u001b[38;5;124m\"\u001b[39m, \u001b[38;5;28;01mNone\u001b[39;00m) \u001b[38;5;241m==\u001b[39m \u001b[38;5;28mbool\u001b[39m:\n",
      "File \u001b[1;32mC:\\ProgramData\\Anaconda3\\lib\\site-packages\\pandas\\core\\indexes\\base.py:5782\u001b[0m, in \u001b[0;36mIndex._get_indexer_strict\u001b[1;34m(self, key, axis_name)\u001b[0m\n\u001b[0;32m   5779\u001b[0m \u001b[38;5;28;01melse\u001b[39;00m:\n\u001b[0;32m   5780\u001b[0m     keyarr, indexer, new_indexer \u001b[38;5;241m=\u001b[39m \u001b[38;5;28mself\u001b[39m\u001b[38;5;241m.\u001b[39m_reindex_non_unique(keyarr)\n\u001b[1;32m-> 5782\u001b[0m \u001b[38;5;28;43mself\u001b[39;49m\u001b[38;5;241;43m.\u001b[39;49m\u001b[43m_raise_if_missing\u001b[49m\u001b[43m(\u001b[49m\u001b[43mkeyarr\u001b[49m\u001b[43m,\u001b[49m\u001b[43m \u001b[49m\u001b[43mindexer\u001b[49m\u001b[43m,\u001b[49m\u001b[43m \u001b[49m\u001b[43maxis_name\u001b[49m\u001b[43m)\u001b[49m\n\u001b[0;32m   5784\u001b[0m keyarr \u001b[38;5;241m=\u001b[39m \u001b[38;5;28mself\u001b[39m\u001b[38;5;241m.\u001b[39mtake(indexer)\n\u001b[0;32m   5785\u001b[0m \u001b[38;5;28;01mif\u001b[39;00m \u001b[38;5;28misinstance\u001b[39m(key, Index):\n\u001b[0;32m   5786\u001b[0m     \u001b[38;5;66;03m# GH 42790 - Preserve name from an Index\u001b[39;00m\n",
      "File \u001b[1;32mC:\\ProgramData\\Anaconda3\\lib\\site-packages\\pandas\\core\\indexes\\base.py:5845\u001b[0m, in \u001b[0;36mIndex._raise_if_missing\u001b[1;34m(self, key, indexer, axis_name)\u001b[0m\n\u001b[0;32m   5842\u001b[0m     \u001b[38;5;28;01mraise\u001b[39;00m \u001b[38;5;167;01mKeyError\u001b[39;00m(\u001b[38;5;124mf\u001b[39m\u001b[38;5;124m\"\u001b[39m\u001b[38;5;124mNone of [\u001b[39m\u001b[38;5;132;01m{\u001b[39;00mkey\u001b[38;5;132;01m}\u001b[39;00m\u001b[38;5;124m] are in the [\u001b[39m\u001b[38;5;132;01m{\u001b[39;00maxis_name\u001b[38;5;132;01m}\u001b[39;00m\u001b[38;5;124m]\u001b[39m\u001b[38;5;124m\"\u001b[39m)\n\u001b[0;32m   5844\u001b[0m not_found \u001b[38;5;241m=\u001b[39m \u001b[38;5;28mlist\u001b[39m(ensure_index(key)[missing_mask\u001b[38;5;241m.\u001b[39mnonzero()[\u001b[38;5;241m0\u001b[39m]]\u001b[38;5;241m.\u001b[39munique())\n\u001b[1;32m-> 5845\u001b[0m \u001b[38;5;28;01mraise\u001b[39;00m \u001b[38;5;167;01mKeyError\u001b[39;00m(\u001b[38;5;124mf\u001b[39m\u001b[38;5;124m\"\u001b[39m\u001b[38;5;132;01m{\u001b[39;00mnot_found\u001b[38;5;132;01m}\u001b[39;00m\u001b[38;5;124m not in index\u001b[39m\u001b[38;5;124m\"\u001b[39m)\n",
      "\u001b[1;31mKeyError\u001b[0m: \"['Snowfall(cm)'] not in index\""
     ]
    }
   ],
   "source": [
    "# 一\n",
    "import pandas as pd\n",
    "import statsmodels.api as sm\n",
    "\n",
    "# 讀取數據文件\n",
    "data = pd.read_csv('SeoulBikeData.csv')\n",
    "\n",
    "# 提取所需變數\n",
    "variables = ['Hour', 'Temperature', 'Humidity(%)', 'Wind speed (m/s)', 'Visibility (10m)',\n",
    "            'Dew point temperature', 'Solar Radiation (MJ/m2)', 'Rainfall(mm)', 'Snowfall(cm)']\n",
    "\n",
    "\n",
    "subset_data = data[variables]\n",
    "subset_data = sm.add_constant(subset_data) # 添加常數項\n",
    "\n",
    "# 建立線性迴歸模型\n",
    "model = sm.OLS(data['Rented Bike Count'], subset_data)\n",
    "\n",
    "# 建立模型擬合\n",
    "result = model.fit()\n",
    "\n",
    "# 顯示迴歸方程式\n",
    "print('迴歸方程式：')\n",
    "print(results.summary())"
   ]
  },
  {
   "cell_type": "code",
   "execution_count": null,
   "id": "a2780b7c",
   "metadata": {},
   "outputs": [],
   "source": []
  },
  {
   "cell_type": "code",
   "execution_count": null,
   "id": "3b3eac0b",
   "metadata": {},
   "outputs": [],
   "source": []
  },
  {
   "cell_type": "code",
   "execution_count": null,
   "id": "e43b9229",
   "metadata": {},
   "outputs": [],
   "source": []
  },
  {
   "cell_type": "code",
   "execution_count": 2,
   "id": "95a7145b",
   "metadata": {},
   "outputs": [
    {
     "ename": "KeyError",
     "evalue": "'variables'",
     "output_type": "error",
     "traceback": [
      "\u001b[1;31m---------------------------------------------------------------------------\u001b[0m",
      "\u001b[1;31mKeyError\u001b[0m                                  Traceback (most recent call last)",
      "File \u001b[1;32mC:\\ProgramData\\Anaconda3\\lib\\site-packages\\pandas\\core\\indexes\\base.py:3621\u001b[0m, in \u001b[0;36mIndex.get_loc\u001b[1;34m(self, key, method, tolerance)\u001b[0m\n\u001b[0;32m   3620\u001b[0m \u001b[38;5;28;01mtry\u001b[39;00m:\n\u001b[1;32m-> 3621\u001b[0m     \u001b[38;5;28;01mreturn\u001b[39;00m \u001b[38;5;28;43mself\u001b[39;49m\u001b[38;5;241;43m.\u001b[39;49m\u001b[43m_engine\u001b[49m\u001b[38;5;241;43m.\u001b[39;49m\u001b[43mget_loc\u001b[49m\u001b[43m(\u001b[49m\u001b[43mcasted_key\u001b[49m\u001b[43m)\u001b[49m\n\u001b[0;32m   3622\u001b[0m \u001b[38;5;28;01mexcept\u001b[39;00m \u001b[38;5;167;01mKeyError\u001b[39;00m \u001b[38;5;28;01mas\u001b[39;00m err:\n",
      "File \u001b[1;32mC:\\ProgramData\\Anaconda3\\lib\\site-packages\\pandas\\_libs\\index.pyx:136\u001b[0m, in \u001b[0;36mpandas._libs.index.IndexEngine.get_loc\u001b[1;34m()\u001b[0m\n",
      "File \u001b[1;32mC:\\ProgramData\\Anaconda3\\lib\\site-packages\\pandas\\_libs\\index.pyx:163\u001b[0m, in \u001b[0;36mpandas._libs.index.IndexEngine.get_loc\u001b[1;34m()\u001b[0m\n",
      "File \u001b[1;32mpandas\\_libs\\hashtable_class_helper.pxi:5198\u001b[0m, in \u001b[0;36mpandas._libs.hashtable.PyObjectHashTable.get_item\u001b[1;34m()\u001b[0m\n",
      "File \u001b[1;32mpandas\\_libs\\hashtable_class_helper.pxi:5206\u001b[0m, in \u001b[0;36mpandas._libs.hashtable.PyObjectHashTable.get_item\u001b[1;34m()\u001b[0m\n",
      "\u001b[1;31mKeyError\u001b[0m: 'variables'",
      "\nThe above exception was the direct cause of the following exception:\n",
      "\u001b[1;31mKeyError\u001b[0m                                  Traceback (most recent call last)",
      "Input \u001b[1;32mIn [2]\u001b[0m, in \u001b[0;36m<cell line: 13>\u001b[1;34m()\u001b[0m\n\u001b[0;32m      8\u001b[0m \u001b[38;5;66;03m# 提取所需變數\u001b[39;00m\n\u001b[0;32m      9\u001b[0m variables \u001b[38;5;241m=\u001b[39m [\u001b[38;5;124m\"\u001b[39m\u001b[38;5;124mRented Bike Count\u001b[39m\u001b[38;5;124m\"\u001b[39m, \u001b[38;5;124m\"\u001b[39m\u001b[38;5;124mHour\u001b[39m\u001b[38;5;124m\"\u001b[39m, \u001b[38;5;124m\"\u001b[39m\u001b[38;5;124mTemperature\u001b[39m\u001b[38;5;124m\"\u001b[39m, \u001b[38;5;124m\"\u001b[39m\u001b[38;5;124mHumidity(\u001b[39m\u001b[38;5;124m%\u001b[39m\u001b[38;5;124m)\u001b[39m\u001b[38;5;124m\"\u001b[39m,\n\u001b[0;32m     10\u001b[0m              \u001b[38;5;124m\"\u001b[39m\u001b[38;5;124mWind speed(m/s)\u001b[39m\u001b[38;5;124m\"\u001b[39m, \u001b[38;5;124m\"\u001b[39m\u001b[38;5;124mVisibility(10m)\u001b[39m\u001b[38;5;124m\"\u001b[39m, \u001b[38;5;124m\"\u001b[39m\u001b[38;5;124mDew point temperature\u001b[39m\u001b[38;5;124m\"\u001b[39m,\n\u001b[0;32m     11\u001b[0m             \u001b[38;5;124m\"\u001b[39m\u001b[38;5;124mSolar Radiation(MJ/m2)\u001b[39m\u001b[38;5;124m\"\u001b[39m, \u001b[38;5;124m\"\u001b[39m\u001b[38;5;124mRainfall(mm)\u001b[39m\u001b[38;5;124m\"\u001b[39m, \u001b[38;5;124m\"\u001b[39m\u001b[38;5;124mSnowfall(cm)\u001b[39m\u001b[38;5;124m\"\u001b[39m]\n\u001b[1;32m---> 13\u001b[0m subset_data \u001b[38;5;241m=\u001b[39m \u001b[43mdata\u001b[49m\u001b[43m[\u001b[49m\u001b[38;5;124;43m'\u001b[39;49m\u001b[38;5;124;43mvariables\u001b[39;49m\u001b[38;5;124;43m'\u001b[39;49m\u001b[43m]\u001b[49m\n\u001b[0;32m     15\u001b[0m \u001b[38;5;66;03m# 計算變數間的關聯性\u001b[39;00m\n\u001b[0;32m     16\u001b[0m correlation_matrix \u001b[38;5;241m=\u001b[39m subset_data\u001b[38;5;241m.\u001b[39mcorr()\n",
      "File \u001b[1;32mC:\\ProgramData\\Anaconda3\\lib\\site-packages\\pandas\\core\\frame.py:3505\u001b[0m, in \u001b[0;36mDataFrame.__getitem__\u001b[1;34m(self, key)\u001b[0m\n\u001b[0;32m   3503\u001b[0m \u001b[38;5;28;01mif\u001b[39;00m \u001b[38;5;28mself\u001b[39m\u001b[38;5;241m.\u001b[39mcolumns\u001b[38;5;241m.\u001b[39mnlevels \u001b[38;5;241m>\u001b[39m \u001b[38;5;241m1\u001b[39m:\n\u001b[0;32m   3504\u001b[0m     \u001b[38;5;28;01mreturn\u001b[39;00m \u001b[38;5;28mself\u001b[39m\u001b[38;5;241m.\u001b[39m_getitem_multilevel(key)\n\u001b[1;32m-> 3505\u001b[0m indexer \u001b[38;5;241m=\u001b[39m \u001b[38;5;28;43mself\u001b[39;49m\u001b[38;5;241;43m.\u001b[39;49m\u001b[43mcolumns\u001b[49m\u001b[38;5;241;43m.\u001b[39;49m\u001b[43mget_loc\u001b[49m\u001b[43m(\u001b[49m\u001b[43mkey\u001b[49m\u001b[43m)\u001b[49m\n\u001b[0;32m   3506\u001b[0m \u001b[38;5;28;01mif\u001b[39;00m is_integer(indexer):\n\u001b[0;32m   3507\u001b[0m     indexer \u001b[38;5;241m=\u001b[39m [indexer]\n",
      "File \u001b[1;32mC:\\ProgramData\\Anaconda3\\lib\\site-packages\\pandas\\core\\indexes\\base.py:3623\u001b[0m, in \u001b[0;36mIndex.get_loc\u001b[1;34m(self, key, method, tolerance)\u001b[0m\n\u001b[0;32m   3621\u001b[0m     \u001b[38;5;28;01mreturn\u001b[39;00m \u001b[38;5;28mself\u001b[39m\u001b[38;5;241m.\u001b[39m_engine\u001b[38;5;241m.\u001b[39mget_loc(casted_key)\n\u001b[0;32m   3622\u001b[0m \u001b[38;5;28;01mexcept\u001b[39;00m \u001b[38;5;167;01mKeyError\u001b[39;00m \u001b[38;5;28;01mas\u001b[39;00m err:\n\u001b[1;32m-> 3623\u001b[0m     \u001b[38;5;28;01mraise\u001b[39;00m \u001b[38;5;167;01mKeyError\u001b[39;00m(key) \u001b[38;5;28;01mfrom\u001b[39;00m \u001b[38;5;21;01merr\u001b[39;00m\n\u001b[0;32m   3624\u001b[0m \u001b[38;5;28;01mexcept\u001b[39;00m \u001b[38;5;167;01mTypeError\u001b[39;00m:\n\u001b[0;32m   3625\u001b[0m     \u001b[38;5;66;03m# If we have a listlike key, _check_indexing_error will raise\u001b[39;00m\n\u001b[0;32m   3626\u001b[0m     \u001b[38;5;66;03m#  InvalidIndexError. Otherwise we fall through and re-raise\u001b[39;00m\n\u001b[0;32m   3627\u001b[0m     \u001b[38;5;66;03m#  the TypeError.\u001b[39;00m\n\u001b[0;32m   3628\u001b[0m     \u001b[38;5;28mself\u001b[39m\u001b[38;5;241m.\u001b[39m_check_indexing_error(key)\n",
      "\u001b[1;31mKeyError\u001b[0m: 'variables'"
     ]
    }
   ],
   "source": [
    "import pandas as pd\n",
    "import seaborn as sns\n",
    "import matplotlib.pyplot as plt\n",
    "\n",
    "# 讀取數據文件\n",
    "data = pd.read_csv('SeoulBikeData.csv')\n",
    "\n",
    "# 提取所需變數\n",
    "variables = [\"Rented Bike Count\", \"Hour\", \"Temperature\", \"Humidity(%)\",\n",
    "             \"Wind speed(m/s)\", \"Visibility(10m)\", \"Dew point temperature\",\n",
    "            \"Solar Radiation(MJ/m2)\", \"Rainfall(mm)\", \"Snowfall(cm)\"]\n",
    "\n",
    "subset_data = data[variables]\n",
    "\n",
    "# 計算變數間的關聯性\n",
    "correlation_matrix = subset_data.corr()\n",
    "\n",
    "# 繪製 clustermap\n",
    "sns.clustermap(correlation_matrix, cmap='coolwarm', annot=True, fmt='.2f')\n",
    "\n",
    "# 設定圖形標題\n",
    "plt.title('Clustermap of Variabkes')\n",
    "\n",
    "# 顯示圖形\n",
    "plt.show()"
   ]
  },
  {
   "cell_type": "code",
   "execution_count": null,
   "id": "2952adcf",
   "metadata": {},
   "outputs": [],
   "source": []
  },
  {
   "cell_type": "markdown",
   "id": "283af5f4",
   "metadata": {},
   "source": [
    "# 項目分析"
   ]
  },
  {
   "cell_type": "code",
   "execution_count": 4,
   "id": "c1b93bc3",
   "metadata": {},
   "outputs": [
    {
     "name": "stdout",
     "output_type": "stream",
     "text": [
      "Index(['NO', 'Gender', 'DateOfBirth', 'Race', 'FaEdu', 'MomEdu', 'FaexpEdu',\n",
      "       'CoexpEdu', 'Income', 'Grade', 'Level', 'Sportyear', 'ExpectEdu', 'a1',\n",
      "       'a2', 'a3', 'a4', 'a5', 'a6', 'a7', 'b1', 'b2', 'b3', 'b4', 'b5', 'b6',\n",
      "       'c1', 'c2', 'c3', 'c4', 'c5', 'c6', 'c7', 'c8', 'c9', 'c10', 'pl', 'al',\n",
      "       'ss', 'tr', 'blue', 'achievement', 'alienance'],\n",
      "      dtype='object')\n"
     ]
    }
   ],
   "source": [
    "# 項目分析的概念與執行\n",
    "\n",
    "import pandas as pd\n",
    "df = pd.read_csv('python2011nsc.csv')\n",
    "print(df.columns)"
   ]
  },
  {
   "cell_type": "code",
   "execution_count": 5,
   "id": "a3a2f810",
   "metadata": {},
   "outputs": [
    {
     "data": {
      "text/plain": [
       "count    530.000000\n",
       "mean       3.549865\n",
       "std        0.506504\n",
       "min        1.714286\n",
       "25%        3.178571\n",
       "50%        3.571429\n",
       "75%        3.857143\n",
       "max        5.000000\n",
       "Name: mat, dtype: float64"
      ]
     },
     "execution_count": 5,
     "metadata": {},
     "output_type": "execute_result"
    }
   ],
   "source": [
    "a_sum = ['a1', 'a2', 'a3', 'a4', 'a5', 'a6', 'a7']\n",
    "df['at'] = df[a_sum].sum(axis = 'columns')\n",
    "df['mat'] = df['at'] / 7\n",
    "df['mat'].describe()"
   ]
  },
  {
   "cell_type": "code",
   "execution_count": 6,
   "id": "e8a7a7cd",
   "metadata": {},
   "outputs": [
    {
     "name": "stdout",
     "output_type": "stream",
     "text": [
      "matH    176\n",
      "matL    133\n",
      "Name: matHL, dtype: int64\n",
      "===\n",
      "0      matL\n",
      "1       NaN\n",
      "2       NaN\n",
      "3      matL\n",
      "4      matH\n",
      "       ... \n",
      "525    matL\n",
      "526    matH\n",
      "527    matH\n",
      "528    matH\n",
      "529    matH\n",
      "Name: matHL, Length: 530, dtype: object\n"
     ]
    }
   ],
   "source": [
    "# 建立高低分組變數\n",
    "df.loc[df.mat > 3.8571, 'matHL'] = 'matH'\n",
    "df.loc[df.mat < 3.1785, 'matHL'] = 'matL'\n",
    "print(df['matHL'].value_counts())\n",
    "print('===')\n",
    "print(df['matHL'])"
   ]
  },
  {
   "cell_type": "code",
   "execution_count": 7,
   "id": "35450380",
   "metadata": {},
   "outputs": [
    {
     "data": {
      "text/plain": [
       "Ttest_indResult(statistic=16.316339024573516, pvalue=1.570458627376885e-43)"
      ]
     },
     "execution_count": 7,
     "metadata": {},
     "output_type": "execute_result"
    }
   ],
   "source": [
    "# 執行項目分析的鑑別度\n",
    "import scipy.stats as stats\n",
    "group1 = df['a1'][df['matHL'] == 'matH']\n",
    "group2 = df['a1'][df['matHL'] == 'matL']\n",
    "stats.ttest_ind(group1, group2)\n",
    "# pvalue < .05 顯著"
   ]
  },
  {
   "cell_type": "code",
   "execution_count": 9,
   "id": "903e401b",
   "metadata": {},
   "outputs": [
    {
     "name": "stdout",
     "output_type": "stream",
     "text": [
      "a1: Ttest_indResult(statistic=16.316339024573516, pvalue=1.570458627376885e-43)\n",
      "a2: Ttest_indResult(statistic=13.622080473959553, pvalue=2.2429805342349368e-33)\n",
      "a3: Ttest_indResult(statistic=15.344362770909544, pvalue=7.745047598560892e-40)\n",
      "a4: Ttest_indResult(statistic=11.224635007256758, pvalue=9.971003776809036e-25)\n",
      "a5: Ttest_indResult(statistic=13.11918606336424, pvalue=1.6082955041277813e-31)\n",
      "a6: Ttest_indResult(statistic=16.362805056182292, pvalue=1.0447554887481638e-43)\n",
      "a7: Ttest_indResult(statistic=8.197106546191176, pvalue=6.7661077481949965e-15)\n"
     ]
    }
   ],
   "source": [
    "# 執行多題目項目分析鑑別度\n",
    "\n",
    "import scipy.stats as stats\n",
    "\n",
    "a1_1 = df['a1'][df['matHL'] == 'matH']\n",
    "a1_2 = df['a1'][df['matHL'] == 'matL']\n",
    "print('a1:', stats.ttest_ind(a1_1, a1_2))\n",
    "a2_1 = df['a2'][df['matHL'] == 'matH']\n",
    "a2_2 = df['a2'][df['matHL'] == 'matL']\n",
    "print('a2:', stats.ttest_ind(a2_1, a2_2))\n",
    "a3_1 = df['a3'][df['matHL'] == 'matH']\n",
    "a3_2 = df['a3'][df['matHL'] == 'matL']\n",
    "print('a3:', stats.ttest_ind(a3_1, a3_2))\n",
    "a4_1 = df['a4'][df['matHL'] == 'matH']\n",
    "a4_2 = df['a4'][df['matHL'] == 'matL']\n",
    "print('a4:', stats.ttest_ind(a4_1, a4_2))\n",
    "a5_1 = df['a5'][df['matHL'] == 'matH']\n",
    "a5_2 = df['a5'][df['matHL'] == 'matL']\n",
    "print('a5:', stats.ttest_ind(a5_1, a5_2))\n",
    "a6_1 = df['a6'][df['matHL'] == 'matH']\n",
    "a6_2 = df['a6'][df['matHL'] == 'matL']\n",
    "print('a6:', stats.ttest_ind(a6_1, a6_2))\n",
    "a7_1 = df['a7'][df['matHL'] == 'matH']\n",
    "a7_2 = df['a7'][df['matHL'] == 'matL']\n",
    "print('a7:', stats.ttest_ind(a7_1, a7_2))"
   ]
  },
  {
   "cell_type": "markdown",
   "id": "916e2529",
   "metadata": {},
   "source": [
    "# 信度分析"
   ]
  },
  {
   "cell_type": "code",
   "execution_count": 10,
   "id": "5e9de406",
   "metadata": {},
   "outputs": [
    {
     "name": "stdout",
     "output_type": "stream",
     "text": [
      "Index(['NO', 'Gender', 'DateOfBirth', 'Race', 'FaEdu', 'MomEdu', 'FaexpEdu',\n",
      "       'CoexpEdu', 'Income', 'Grade', 'Level', 'Sportyear', 'ExpectEdu', 'a1',\n",
      "       'a2', 'a3', 'a4', 'a5', 'a6', 'a7', 'b1', 'b2', 'b3', 'b4', 'b5', 'b6',\n",
      "       'c1', 'c2', 'c3', 'c4', 'c5', 'c6', 'c7', 'c8', 'c9', 'c10', 'pl', 'al',\n",
      "       'ss', 'tr', 'blue', 'achievement', 'alienance'],\n",
      "      dtype='object')\n"
     ]
    }
   ],
   "source": [
    "# 信度分析執行\n",
    "\n",
    "import pandas as pd\n",
    "df = pd.read_csv('python2011nsc.csv')\n",
    "print(df.columns)"
   ]
  },
  {
   "cell_type": "code",
   "execution_count": 12,
   "id": "fbdf126e",
   "metadata": {},
   "outputs": [
    {
     "data": {
      "text/plain": [
       "(0.6643822505197011, array([0.619, 0.706]))"
      ]
     },
     "execution_count": 12,
     "metadata": {},
     "output_type": "execute_result"
    }
   ],
   "source": [
    "import pingouin as pg\n",
    "cronbach1 = df[['a1', 'a2', 'a3', 'a4', 'a5', 'a6', 'a7']]\n",
    "pg.cronbach_alpha(cronbach1)"
   ]
  },
  {
   "cell_type": "code",
   "execution_count": 13,
   "id": "56b32796",
   "metadata": {},
   "outputs": [
    {
     "name": "stdout",
     "output_type": "stream",
     "text": [
      "(0.5889485878517897, array([0.524, 0.646]))\n",
      "(0.5872617738762133, array([0.527, 0.642]))\n"
     ]
    }
   ],
   "source": [
    "cronbach11 =df[['a1', 'a2', 'a3']]\n",
    "cronbach12 =df[['a4', 'a5', 'a6', 'a7']]\n",
    "cb11 = pg.cronbach_alpha(cronbach11)\n",
    "cb12 = pg.cronbach_alpha(cronbach12)\n",
    "print(cb11)\n",
    "print(cb12)"
   ]
  },
  {
   "cell_type": "code",
   "execution_count": null,
   "id": "8ffbcdad",
   "metadata": {},
   "outputs": [],
   "source": []
  },
  {
   "cell_type": "code",
   "execution_count": null,
   "id": "4f288dc7",
   "metadata": {},
   "outputs": [],
   "source": []
  },
  {
   "cell_type": "code",
   "execution_count": null,
   "id": "4714b8e9",
   "metadata": {},
   "outputs": [],
   "source": []
  },
  {
   "cell_type": "code",
   "execution_count": null,
   "id": "6b7b0532",
   "metadata": {},
   "outputs": [],
   "source": []
  },
  {
   "cell_type": "code",
   "execution_count": null,
   "id": "30b2d7a4",
   "metadata": {},
   "outputs": [],
   "source": []
  },
  {
   "cell_type": "code",
   "execution_count": null,
   "id": "5fe728ae",
   "metadata": {},
   "outputs": [],
   "source": []
  }
 ],
 "metadata": {
  "kernelspec": {
   "display_name": "Python 3 (ipykernel)",
   "language": "python",
   "name": "python3"
  },
  "language_info": {
   "codemirror_mode": {
    "name": "ipython",
    "version": 3
   },
   "file_extension": ".py",
   "mimetype": "text/x-python",
   "name": "python",
   "nbconvert_exporter": "python",
   "pygments_lexer": "ipython3",
   "version": "3.9.12"
  }
 },
 "nbformat": 4,
 "nbformat_minor": 5
}
