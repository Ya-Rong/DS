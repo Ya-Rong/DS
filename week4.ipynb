{
 "cells": [
  {
   "cell_type": "code",
   "execution_count": 8,
   "id": "c6c115b2",
   "metadata": {},
   "outputs": [
    {
     "data": {
      "text/html": [
       "<div>\n",
       "<style scoped>\n",
       "    .dataframe tbody tr th:only-of-type {\n",
       "        vertical-align: middle;\n",
       "    }\n",
       "\n",
       "    .dataframe tbody tr th {\n",
       "        vertical-align: top;\n",
       "    }\n",
       "\n",
       "    .dataframe thead th {\n",
       "        text-align: right;\n",
       "    }\n",
       "</style>\n",
       "<table border=\"1\" class=\"dataframe\">\n",
       "  <thead>\n",
       "    <tr style=\"text-align: right;\">\n",
       "      <th></th>\n",
       "      <th>NO</th>\n",
       "      <th>Gender</th>\n",
       "      <th>Bornyear</th>\n",
       "      <th>Race</th>\n",
       "      <th>Player</th>\n",
       "      <th>Sportyear</th>\n",
       "      <th>Bestpride</th>\n",
       "      <th>Income</th>\n",
       "      <th>PrantEdu</th>\n",
       "      <th>PersonalEdu</th>\n",
       "      <th>...</th>\n",
       "      <th>CD01</th>\n",
       "      <th>CD02</th>\n",
       "      <th>CD03</th>\n",
       "      <th>CD04</th>\n",
       "      <th>CD05</th>\n",
       "      <th>CD06</th>\n",
       "      <th>CD07</th>\n",
       "      <th>CD08</th>\n",
       "      <th>CD09</th>\n",
       "      <th>CD10</th>\n",
       "    </tr>\n",
       "  </thead>\n",
       "  <tbody>\n",
       "    <tr>\n",
       "      <th>0</th>\n",
       "      <td>10001</td>\n",
       "      <td>male</td>\n",
       "      <td>81</td>\n",
       "      <td>1.0</td>\n",
       "      <td>0</td>\n",
       "      <td>6.0</td>\n",
       "      <td>2</td>\n",
       "      <td>2</td>\n",
       "      <td>3</td>\n",
       "      <td>1</td>\n",
       "      <td>...</td>\n",
       "      <td>3</td>\n",
       "      <td>3</td>\n",
       "      <td>3</td>\n",
       "      <td>3</td>\n",
       "      <td>3</td>\n",
       "      <td>3</td>\n",
       "      <td>3</td>\n",
       "      <td>3</td>\n",
       "      <td>3</td>\n",
       "      <td>3</td>\n",
       "    </tr>\n",
       "    <tr>\n",
       "      <th>1</th>\n",
       "      <td>10002</td>\n",
       "      <td>male</td>\n",
       "      <td>81</td>\n",
       "      <td>1.0</td>\n",
       "      <td>0</td>\n",
       "      <td>6.0</td>\n",
       "      <td>3</td>\n",
       "      <td>1</td>\n",
       "      <td>3</td>\n",
       "      <td>4</td>\n",
       "      <td>...</td>\n",
       "      <td>3</td>\n",
       "      <td>4</td>\n",
       "      <td>3</td>\n",
       "      <td>3</td>\n",
       "      <td>3</td>\n",
       "      <td>3</td>\n",
       "      <td>3</td>\n",
       "      <td>3</td>\n",
       "      <td>2</td>\n",
       "      <td>3</td>\n",
       "    </tr>\n",
       "    <tr>\n",
       "      <th>2</th>\n",
       "      <td>10003</td>\n",
       "      <td>male</td>\n",
       "      <td>82</td>\n",
       "      <td>1.0</td>\n",
       "      <td>0</td>\n",
       "      <td>6.0</td>\n",
       "      <td>2</td>\n",
       "      <td>2</td>\n",
       "      <td>3</td>\n",
       "      <td>2</td>\n",
       "      <td>...</td>\n",
       "      <td>4</td>\n",
       "      <td>5</td>\n",
       "      <td>4</td>\n",
       "      <td>3</td>\n",
       "      <td>3</td>\n",
       "      <td>3</td>\n",
       "      <td>2</td>\n",
       "      <td>2</td>\n",
       "      <td>3</td>\n",
       "      <td>3</td>\n",
       "    </tr>\n",
       "    <tr>\n",
       "      <th>3</th>\n",
       "      <td>10004</td>\n",
       "      <td>male</td>\n",
       "      <td>81</td>\n",
       "      <td>1.0</td>\n",
       "      <td>0</td>\n",
       "      <td>6.0</td>\n",
       "      <td>2</td>\n",
       "      <td>1</td>\n",
       "      <td>3</td>\n",
       "      <td>2</td>\n",
       "      <td>...</td>\n",
       "      <td>4</td>\n",
       "      <td>4</td>\n",
       "      <td>2</td>\n",
       "      <td>2</td>\n",
       "      <td>2</td>\n",
       "      <td>2</td>\n",
       "      <td>2</td>\n",
       "      <td>2</td>\n",
       "      <td>2</td>\n",
       "      <td>2</td>\n",
       "    </tr>\n",
       "    <tr>\n",
       "      <th>4</th>\n",
       "      <td>10005</td>\n",
       "      <td>male</td>\n",
       "      <td>82</td>\n",
       "      <td>1.0</td>\n",
       "      <td>0</td>\n",
       "      <td>8.0</td>\n",
       "      <td>2</td>\n",
       "      <td>1</td>\n",
       "      <td>4</td>\n",
       "      <td>2</td>\n",
       "      <td>...</td>\n",
       "      <td>4</td>\n",
       "      <td>4</td>\n",
       "      <td>4</td>\n",
       "      <td>4</td>\n",
       "      <td>4</td>\n",
       "      <td>4</td>\n",
       "      <td>3</td>\n",
       "      <td>4</td>\n",
       "      <td>3</td>\n",
       "      <td>3</td>\n",
       "    </tr>\n",
       "  </tbody>\n",
       "</table>\n",
       "<p>5 rows × 49 columns</p>\n",
       "</div>"
      ],
      "text/plain": [
       "      NO Gender  Bornyear  Race  Player  Sportyear  Bestpride  Income  \\\n",
       "0  10001   male        81   1.0       0        6.0          2       2   \n",
       "1  10002   male        81   1.0       0        6.0          3       1   \n",
       "2  10003   male        82   1.0       0        6.0          2       2   \n",
       "3  10004   male        81   1.0       0        6.0          2       1   \n",
       "4  10005   male        82   1.0       0        8.0          2       1   \n",
       "\n",
       "   PrantEdu  PersonalEdu  ...  CD01  CD02  CD03  CD04  CD05  CD06  CD07  CD08  \\\n",
       "0         3            1  ...     3     3     3     3     3     3     3     3   \n",
       "1         3            4  ...     3     4     3     3     3     3     3     3   \n",
       "2         3            2  ...     4     5     4     3     3     3     2     2   \n",
       "3         3            2  ...     4     4     2     2     2     2     2     2   \n",
       "4         4            2  ...     4     4     4     4     4     4     3     4   \n",
       "\n",
       "   CD09  CD10  \n",
       "0     3     3  \n",
       "1     2     3  \n",
       "2     3     3  \n",
       "3     2     2  \n",
       "4     3     3  \n",
       "\n",
       "[5 rows x 49 columns]"
      ]
     },
     "execution_count": 8,
     "metadata": {},
     "output_type": "execute_result"
    }
   ],
   "source": [
    "import pandas as pd\n",
    "df = pd.read_csv('py01nsc2011.csv', encoding = 'UTF-8')\n",
    "df.head()"
   ]
  },
  {
   "cell_type": "code",
   "execution_count": 11,
   "id": "e34e130c",
   "metadata": {},
   "outputs": [
    {
     "name": "stdout",
     "output_type": "stream",
     "text": [
      "0         male\n",
      "1         male\n",
      "2         male\n",
      "3         male\n",
      "4         male\n",
      "         ...  \n",
      "1418    female\n",
      "1419    female\n",
      "1420      male\n",
      "1421      male\n",
      "1422      male\n",
      "Name: Gender, Length: 1423, dtype: object\n",
      "\n",
      "\n",
      "male      942\n",
      "female    481\n",
      "Name: Gender, dtype: int64 1.0    1059\n",
      "2.0     167\n",
      "3.0     145\n",
      "Name: Race, dtype: int64\n"
     ]
    }
   ],
   "source": [
    "print(df['Gender'])\n",
    "print('\\n')\n",
    "print(df['Gender'].value_counts(),df['Race'].value_counts())"
   ]
  },
  {
   "cell_type": "code",
   "execution_count": 27,
   "id": "6e5235f9",
   "metadata": {},
   "outputs": [
    {
     "data": {
      "image/png": "[encoded data removed]",
      "text/plain": [
       "<Figure size 432x288 with 1 Axes>"
      ]
     },
     "metadata": {
      "needs_background": "light"
     },
     "output_type": "display_data"
    }
   ],
   "source": [
    "import pandas as pd\n",
    "import matplotlib.pyplot as plt\n",
    "df = pd.read_csv('iris.csv')\n",
    "\n",
    "fig, ax = plt.subplots()\n",
    "ax.bar('Sepal length', df['sepal length (cm)'].mean(),yerr=df['sepal length (cm)'].std())\n",
    "ax.bar('Sepal width', df['sepal width (cm)'].mean(),yerr=df['sepal width (cm)'].std())\n",
    "ax.bar('Petal length', df['petal length (cm)'].mean(),yerr=df['petal length (cm)'].std())\n",
    "ax.bar('Petal width', df['petal width (cm)'].mean(),yerr=df['petal width (cm)'].std())\n",
    "ax.set_ylabel('Length or width (cm)')\n",
    "ax.set_title('IRIS dataset - Mean and atandard deviation of length and width')\n",
    "\n",
    "plt.show()"
   ]
  },
  {
   "cell_type": "code",
   "execution_count": null,
   "id": "adfc0fb1",
   "metadata": {},
   "outputs": [],
   "source": []
  },
  {
   "cell_type": "markdown",
   "id": "64e6fb8d",
   "metadata": {},
   "source": [
    "Numpy 與 matplotlib 的程式範例"
   ]
  },
  {
   "cell_type": "code",
   "execution_count": 19,
   "id": "21efd768",
   "metadata": {},
   "outputs": [],
   "source": [
    "import numpy as np\n",
    "import matplotlib.pyplot as plt"
   ]
  },
  {
   "cell_type": "code",
   "execution_count": 20,
   "id": "14e24db2",
   "metadata": {},
   "outputs": [
    {
     "data": {
      "image/png": "[encoded data removed]",
      "text/plain": [
       "<Figure size 432x288 with 1 Axes>"
      ]
     },
     "metadata": {
      "needs_background": "light"
     },
     "output_type": "display_data"
    }
   ],
   "source": [
    "stock = np.array([271.5,275.5,283,285,283,\n",
    "                  279.5,278.5,285,287.5,286.5,\n",
    "                 306.5,304,295,294,295.5,\n",
    "                 294,298,296.5,299,304.5])\n",
    "\n",
    "plt.plot(stock)\n",
    "plt.show()"
   ]
  },
  {
   "cell_type": "markdown",
   "id": "3ddee109",
   "metadata": {},
   "source": [
    "其他建立 ndarray 的方法"
   ]
  },
  {
   "cell_type": "code",
   "execution_count": 28,
   "id": "b22ded6a",
   "metadata": {},
   "outputs": [
    {
     "name": "stdout",
     "output_type": "stream",
     "text": [
      "[6 6 0 4 9 1 2 6 3 7 4 7 4 8 1 0 0 6 7 5]\n"
     ]
    }
   ],
   "source": [
    "import numpy as np\n",
    "\n",
    "# np.random.randint\n",
    "rand = np.random.randint(0,10,20)\n",
    "print(rand)"
   ]
  },
  {
   "cell_type": "code",
   "execution_count": null,
   "id": "34b4c056",
   "metadata": {},
   "outputs": [],
   "source": [
    "ndarray可對陣列中所有元素做計算"
   ]
  },
  {
   "cell_type": "code",
   "execution_count": 1,
   "id": "396b9fb5",
   "metadata": {},
   "outputs": [
    {
     "name": "stdout",
     "output_type": "stream",
     "text": [
      "[2 3 4 5 6]\n",
      "[ 4  6  8 10 12]\n"
     ]
    }
   ],
   "source": [
    "import numpy as np\n",
    "\n",
    "data = np.array([1,2,3,4,5])\n",
    "\n",
    "data = data + 1\n",
    "print(data)\n",
    "\n",
    "data = data * 2\n",
    "print(data)"
   ]
  },
  {
   "cell_type": "code",
   "execution_count": null,
   "id": "148c72b9",
   "metadata": {},
   "outputs": [],
   "source": []
  },
  {
   "cell_type": "code",
   "execution_count": 2,
   "id": "3233d20c",
   "metadata": {},
   "outputs": [
    {
     "name": "stdout",
     "output_type": "stream",
     "text": [
      "平均成績 = 59.25\n",
      "中位成績 = 60.0\n",
      "眾數成績 = 80\n"
     ]
    },
    {
     "data": {
      "image/png": "[encoded data removed]",
      "text/plain": [
       "<Figure size 432x288 with 1 Axes>"
      ]
     },
     "metadata": {
      "needs_background": "light"
     },
     "output_type": "display_data"
    }
   ],
   "source": [
    "# ch24_8.py\n",
    "import numpy as np\n",
    "import statistics as st\n",
    "import matplotlib.pyplot as plt\n",
    "\n",
    "sc = [60,10,40,80,80,30,80,60,70,90,50,50,50,70,60,80,80,50,60,70,\n",
    "      70,40,30,70,60,80,20,80,70,50,90,80,40,40,70,60,80,30,20,70]\n",
    "print(f'平均成績 = {np.mean(sc)}')\n",
    "print(f'中位成績 = {np.median(sc)}')\n",
    "print(f'眾數成績 = {st.mode(sc)}')\n",
    "plt.rcParams['font.family'] = 'Microsoft JhengHei'\n",
    "plt.hist(sc, 9)\n",
    "\n",
    "plt.ylabel('學生人數')\n",
    "plt.xlabel('分數')\n",
    "plt.title('成績表')\n",
    "plt.show()"
   ]
  },
  {
   "cell_type": "code",
   "execution_count": null,
   "id": "2fbb5839",
   "metadata": {},
   "outputs": [],
   "source": []
  }
 ],
 "metadata": {
  "kernelspec": {
   "display_name": "Python 3 (ipykernel)",
   "language": "python",
   "name": "python3"
  },
  "language_info": {
   "codemirror_mode": {
    "name": "ipython",
    "version": 3
   },
   "file_extension": ".py",
   "mimetype": "text/x-python",
   "name": "python",
   "nbconvert_exporter": "python",
   "pygments_lexer": "ipython3",
   "version": "3.9.12"
  }
 },
 "nbformat": 4,
 "nbformat_minor": 5
}
