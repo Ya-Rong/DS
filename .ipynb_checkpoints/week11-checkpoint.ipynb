{
 "cells": [
  {
   "cell_type": "code",
   "execution_count": 1,
   "id": "851caf7b",
   "metadata": {},
   "outputs": [
    {
     "name": "stdout",
     "output_type": "stream",
     "text": [
      "<class 'pandas.core.frame.DataFrame'>\n",
      "RangeIndex: 38 entries, 0 to 37\n",
      "Data columns (total 32 columns):\n",
      " #   Column           Non-Null Count  Dtype  \n",
      "---  ------           --------------  -----  \n",
      " 0   No               38 non-null     int64  \n",
      " 1   feedback         38 non-null     int64  \n",
      " 2   gender           38 non-null     int64  \n",
      " 3   age              38 non-null     int64  \n",
      " 4   sportyear        38 non-null     int64  \n",
      " 5   cohnesion1       38 non-null     float64\n",
      " 6   cohnesion2       38 non-null     float64\n",
      " 7   cohnesion3       38 non-null     float64\n",
      " 8   b1time           38 non-null     float64\n",
      " 9   b2time           38 non-null     float64\n",
      " 10  b3time           38 non-null     float64\n",
      " 11  b1emotion        38 non-null     float64\n",
      " 12  b2emotion        38 non-null     float64\n",
      " 13  b3emotion        38 non-null     float64\n",
      " 14  b1achieve        38 non-null     float64\n",
      " 15  b2achieve        38 non-null     float64\n",
      " 16  b3achieve        38 non-null     float64\n",
      " 17  b1social         38 non-null     float64\n",
      " 18  b2social         38 non-null     float64\n",
      " 19  b3social         38 non-null     float64\n",
      " 20  b1self           38 non-null     float64\n",
      " 21  b2self           38 non-null     float64\n",
      " 22  b3self           38 non-null     float64\n",
      " 23  b1active         38 non-null     float64\n",
      " 24  b2active         38 non-null     float64\n",
      " 25  b3active         38 non-null     float64\n",
      " 26  c1effective      38 non-null     float64\n",
      " 27  c2effective      38 non-null     float64\n",
      " 28  c3effective      38 non-null     float64\n",
      " 29  d1interpersonal  38 non-null     float64\n",
      " 30  d2interpersonal  38 non-null     float64\n",
      " 31  d3interpersonal  38 non-null     float64\n",
      "dtypes: float64(27), int64(5)\n",
      "memory usage: 9.6 KB\n",
      "None\n"
     ]
    }
   ],
   "source": [
    "import pandas as pd\n",
    "import pingouin as pg\n",
    "df = pd.read_csv('TPRMOE2018.csv')\n",
    "print(df.info())"
   ]
  },
  {
   "cell_type": "code",
   "execution_count": 2,
   "id": "8c0f1eac",
   "metadata": {},
   "outputs": [
    {
     "data": {
      "text/html": [
       "<div>\n",
       "<style scoped>\n",
       "    .dataframe tbody tr th:only-of-type {\n",
       "        vertical-align: middle;\n",
       "    }\n",
       "\n",
       "    .dataframe tbody tr th {\n",
       "        vertical-align: top;\n",
       "    }\n",
       "\n",
       "    .dataframe thead th {\n",
       "        text-align: right;\n",
       "    }\n",
       "</style>\n",
       "<table border=\"1\" class=\"dataframe\">\n",
       "  <thead>\n",
       "    <tr style=\"text-align: right;\">\n",
       "      <th></th>\n",
       "      <th>No</th>\n",
       "      <th>cohnesion1</th>\n",
       "      <th>cohnesion2</th>\n",
       "      <th>cohnesion3</th>\n",
       "    </tr>\n",
       "  </thead>\n",
       "  <tbody>\n",
       "    <tr>\n",
       "      <th>0</th>\n",
       "      <td>1</td>\n",
       "      <td>3.555556</td>\n",
       "      <td>5.000000</td>\n",
       "      <td>5.000000</td>\n",
       "    </tr>\n",
       "    <tr>\n",
       "      <th>1</th>\n",
       "      <td>2</td>\n",
       "      <td>3.777778</td>\n",
       "      <td>4.333333</td>\n",
       "      <td>4.777778</td>\n",
       "    </tr>\n",
       "    <tr>\n",
       "      <th>2</th>\n",
       "      <td>3</td>\n",
       "      <td>4.000000</td>\n",
       "      <td>5.000000</td>\n",
       "      <td>4.555556</td>\n",
       "    </tr>\n",
       "    <tr>\n",
       "      <th>3</th>\n",
       "      <td>4</td>\n",
       "      <td>3.222222</td>\n",
       "      <td>4.888889</td>\n",
       "      <td>4.888889</td>\n",
       "    </tr>\n",
       "    <tr>\n",
       "      <th>4</th>\n",
       "      <td>5</td>\n",
       "      <td>4.000000</td>\n",
       "      <td>4.000000</td>\n",
       "      <td>3.777778</td>\n",
       "    </tr>\n",
       "    <tr>\n",
       "      <th>5</th>\n",
       "      <td>6</td>\n",
       "      <td>3.888889</td>\n",
       "      <td>4.222222</td>\n",
       "      <td>4.000000</td>\n",
       "    </tr>\n",
       "    <tr>\n",
       "      <th>6</th>\n",
       "      <td>7</td>\n",
       "      <td>3.777778</td>\n",
       "      <td>4.333333</td>\n",
       "      <td>3.777778</td>\n",
       "    </tr>\n",
       "    <tr>\n",
       "      <th>7</th>\n",
       "      <td>9</td>\n",
       "      <td>4.000000</td>\n",
       "      <td>5.000000</td>\n",
       "      <td>5.000000</td>\n",
       "    </tr>\n",
       "    <tr>\n",
       "      <th>8</th>\n",
       "      <td>10</td>\n",
       "      <td>3.777778</td>\n",
       "      <td>4.333333</td>\n",
       "      <td>4.555556</td>\n",
       "    </tr>\n",
       "    <tr>\n",
       "      <th>9</th>\n",
       "      <td>11</td>\n",
       "      <td>3.000000</td>\n",
       "      <td>3.777778</td>\n",
       "      <td>3.777778</td>\n",
       "    </tr>\n",
       "  </tbody>\n",
       "</table>\n",
       "</div>"
      ],
      "text/plain": [
       "   No  cohnesion1  cohnesion2  cohnesion3\n",
       "0   1    3.555556    5.000000    5.000000\n",
       "1   2    3.777778    4.333333    4.777778\n",
       "2   3    4.000000    5.000000    4.555556\n",
       "3   4    3.222222    4.888889    4.888889\n",
       "4   5    4.000000    4.000000    3.777778\n",
       "5   6    3.888889    4.222222    4.000000\n",
       "6   7    3.777778    4.333333    3.777778\n",
       "7   9    4.000000    5.000000    5.000000\n",
       "8  10    3.777778    4.333333    4.555556\n",
       "9  11    3.000000    3.777778    3.777778"
      ]
     },
     "execution_count": 2,
     "metadata": {},
     "output_type": "execute_result"
    }
   ],
   "source": [
    "wide_format = df[['No','cohnesion1','cohnesion2','cohnesion3']]\n",
    "wide_format.sort_values('No').head(10)"
   ]
  },
  {
   "cell_type": "code",
   "execution_count": 3,
   "id": "f83ebbb9",
   "metadata": {},
   "outputs": [
    {
     "data": {
      "text/html": [
       "<div>\n",
       "<style scoped>\n",
       "    .dataframe tbody tr th:only-of-type {\n",
       "        vertical-align: middle;\n",
       "    }\n",
       "\n",
       "    .dataframe tbody tr th {\n",
       "        vertical-align: top;\n",
       "    }\n",
       "\n",
       "    .dataframe thead th {\n",
       "        text-align: right;\n",
       "    }\n",
       "</style>\n",
       "<table border=\"1\" class=\"dataframe\">\n",
       "  <thead>\n",
       "    <tr style=\"text-align: right;\">\n",
       "      <th></th>\n",
       "      <th>No</th>\n",
       "      <th>cohnesion</th>\n",
       "      <th>cohnvalue</th>\n",
       "    </tr>\n",
       "  </thead>\n",
       "  <tbody>\n",
       "    <tr>\n",
       "      <th>0</th>\n",
       "      <td>1</td>\n",
       "      <td>cohnesion1</td>\n",
       "      <td>3.555556</td>\n",
       "    </tr>\n",
       "    <tr>\n",
       "      <th>76</th>\n",
       "      <td>1</td>\n",
       "      <td>cohnesion3</td>\n",
       "      <td>5.000000</td>\n",
       "    </tr>\n",
       "    <tr>\n",
       "      <th>38</th>\n",
       "      <td>1</td>\n",
       "      <td>cohnesion2</td>\n",
       "      <td>5.000000</td>\n",
       "    </tr>\n",
       "    <tr>\n",
       "      <th>1</th>\n",
       "      <td>2</td>\n",
       "      <td>cohnesion1</td>\n",
       "      <td>3.777778</td>\n",
       "    </tr>\n",
       "    <tr>\n",
       "      <th>77</th>\n",
       "      <td>2</td>\n",
       "      <td>cohnesion3</td>\n",
       "      <td>4.777778</td>\n",
       "    </tr>\n",
       "    <tr>\n",
       "      <th>39</th>\n",
       "      <td>2</td>\n",
       "      <td>cohnesion2</td>\n",
       "      <td>4.333333</td>\n",
       "    </tr>\n",
       "    <tr>\n",
       "      <th>2</th>\n",
       "      <td>3</td>\n",
       "      <td>cohnesion1</td>\n",
       "      <td>4.000000</td>\n",
       "    </tr>\n",
       "    <tr>\n",
       "      <th>78</th>\n",
       "      <td>3</td>\n",
       "      <td>cohnesion3</td>\n",
       "      <td>4.555556</td>\n",
       "    </tr>\n",
       "    <tr>\n",
       "      <th>40</th>\n",
       "      <td>3</td>\n",
       "      <td>cohnesion2</td>\n",
       "      <td>5.000000</td>\n",
       "    </tr>\n",
       "    <tr>\n",
       "      <th>3</th>\n",
       "      <td>4</td>\n",
       "      <td>cohnesion1</td>\n",
       "      <td>3.222222</td>\n",
       "    </tr>\n",
       "  </tbody>\n",
       "</table>\n",
       "</div>"
      ],
      "text/plain": [
       "    No   cohnesion  cohnvalue\n",
       "0    1  cohnesion1   3.555556\n",
       "76   1  cohnesion3   5.000000\n",
       "38   1  cohnesion2   5.000000\n",
       "1    2  cohnesion1   3.777778\n",
       "77   2  cohnesion3   4.777778\n",
       "39   2  cohnesion2   4.333333\n",
       "2    3  cohnesion1   4.000000\n",
       "78   3  cohnesion3   4.555556\n",
       "40   3  cohnesion2   5.000000\n",
       "3    4  cohnesion1   3.222222"
      ]
     },
     "execution_count": 3,
     "metadata": {},
     "output_type": "execute_result"
    }
   ],
   "source": [
    "long_format = pd.melt(wide_format, id_vars='No',\n",
    "                     value_vars=['cohnesion1','cohnesion2','cohnesion3'],\n",
    "                     var_name='cohnesion', value_name='cohnvalue')\n",
    "long_format.sort_values('No').head(10)"
   ]
  },
  {
   "cell_type": "code",
   "execution_count": 4,
   "id": "8d6771ac",
   "metadata": {},
   "outputs": [
    {
     "data": {
      "text/html": [
       "<div>\n",
       "<style scoped>\n",
       "    .dataframe tbody tr th:only-of-type {\n",
       "        vertical-align: middle;\n",
       "    }\n",
       "\n",
       "    .dataframe tbody tr th {\n",
       "        vertical-align: top;\n",
       "    }\n",
       "\n",
       "    .dataframe thead th {\n",
       "        text-align: right;\n",
       "    }\n",
       "</style>\n",
       "<table border=\"1\" class=\"dataframe\">\n",
       "  <thead>\n",
       "    <tr style=\"text-align: right;\">\n",
       "      <th></th>\n",
       "      <th>Source</th>\n",
       "      <th>SS</th>\n",
       "      <th>DF</th>\n",
       "      <th>MS</th>\n",
       "      <th>F</th>\n",
       "      <th>p-unc</th>\n",
       "      <th>ng2</th>\n",
       "      <th>eps</th>\n",
       "    </tr>\n",
       "  </thead>\n",
       "  <tbody>\n",
       "    <tr>\n",
       "      <th>0</th>\n",
       "      <td>cohnesion</td>\n",
       "      <td>11.308859</td>\n",
       "      <td>2</td>\n",
       "      <td>5.654429</td>\n",
       "      <td>35.627128</td>\n",
       "      <td>1.454808e-11</td>\n",
       "      <td>0.26942</td>\n",
       "      <td>0.993492</td>\n",
       "    </tr>\n",
       "    <tr>\n",
       "      <th>1</th>\n",
       "      <td>Error</td>\n",
       "      <td>11.744639</td>\n",
       "      <td>74</td>\n",
       "      <td>0.158711</td>\n",
       "      <td>NaN</td>\n",
       "      <td>NaN</td>\n",
       "      <td>NaN</td>\n",
       "      <td>NaN</td>\n",
       "    </tr>\n",
       "  </tbody>\n",
       "</table>\n",
       "</div>"
      ],
      "text/plain": [
       "      Source         SS  DF        MS          F         p-unc      ng2  \\\n",
       "0  cohnesion  11.308859   2  5.654429  35.627128  1.454808e-11  0.26942   \n",
       "1      Error  11.744639  74  0.158711        NaN           NaN      NaN   \n",
       "\n",
       "        eps  \n",
       "0  0.993492  \n",
       "1       NaN  "
      ]
     },
     "execution_count": 4,
     "metadata": {},
     "output_type": "execute_result"
    }
   ],
   "source": [
    "rmaov = pg.rm_anova(dv='cohnvalue', within='cohnesion',\n",
    "                subject='No',correction=False, data=long_format,\n",
    "                detailed=True, effsize='ng2')\n",
    "rmaov"
   ]
  },
  {
   "cell_type": "code",
   "execution_count": 5,
   "id": "7025bd38",
   "metadata": {},
   "outputs": [
    {
     "name": "stdout",
     "output_type": "stream",
     "text": [
      "\n",
      "\n",
      "     Variable     N   Mean     SD     SE  95% Conf.  Interval\n",
      "0  cohnesion1  38.0  3.705  0.410  0.066      3.570     3.839\n",
      "1  cohnesion2  38.0  4.374  0.582  0.094      4.183     4.566\n",
      "2  cohnesion3  38.0  4.371  0.568  0.092      4.185     4.558\n",
      "Ttest_relResult(statistic=-7.45406213187764, pvalue=7.099520598704417e-09)\n",
      "Ttest_relResult(statistic=-7.016933381391582, pvalue=2.6912524821927253e-08)\n",
      "Ttest_relResult(statistic=0.03276511589459661, pvalue=0.974038014397416)\n"
     ]
    }
   ],
   "source": [
    "import researchpy as rp\n",
    "from scipy.stats import ttest_rel\n",
    "co1 = df['cohnesion1']\n",
    "co2 = df['cohnesion2']\n",
    "co3 = df['cohnesion3']\n",
    "t1 = ttest_rel(co1,co2)\n",
    "t2 = ttest_rel(co1,co3)\n",
    "t3 = ttest_rel(co2,co3)\n",
    "print(rp.summary_cont(df[['cohnesion1', 'cohnesion2', 'cohnesion3']]).round(3))\n",
    "print(t1)\n",
    "print(t2)\n",
    "print(t3)\n",
    "# SD：標準差 SE：標準誤\n",
    "# e：科學符號 10的-9次方\n",
    "# t1, t2 顯著， t3 不顯著"
   ]
  },
  {
   "cell_type": "markdown",
   "id": "4980b15a",
   "metadata": {},
   "source": [
    "單因子變異數分析"
   ]
  },
  {
   "cell_type": "code",
   "execution_count": 7,
   "id": "e0e8726b",
   "metadata": {},
   "outputs": [
    {
     "name": "stdout",
     "output_type": "stream",
     "text": [
      "Index(['NO', 'Gender', 'DateOfBirth', 'Race', 'FaEdu', 'MomEdu', 'FaexpEdu',\n",
      "       'CoexpEdu', 'Income', 'Grade', 'Level', 'Sportyear', 'ExpectEdu', 'a1',\n",
      "       'a2', 'a3', 'a4', 'a5', 'a6', 'a7', 'b1', 'b2', 'b3', 'b4', 'b5', 'b6',\n",
      "       'c1', 'c2', 'c3', 'c4', 'c5', 'c6', 'c7', 'c8', 'c9', 'c10', 'pl', 'al',\n",
      "       'ss', 'tr', 'blue', 'achievement', 'alienance'],\n",
      "      dtype='object')\n",
      "<class 'pandas.core.frame.DataFrame'>\n",
      "RangeIndex: 530 entries, 0 to 529\n",
      "Data columns (total 43 columns):\n",
      " #   Column       Non-Null Count  Dtype  \n",
      "---  ------       --------------  -----  \n",
      " 0   NO           530 non-null    int64  \n",
      " 1   Gender       530 non-null    int64  \n",
      " 2   DateOfBirth  530 non-null    int64  \n",
      " 3   Race         530 non-null    int64  \n",
      " 4   FaEdu        530 non-null    int64  \n",
      " 5   MomEdu       530 non-null    int64  \n",
      " 6   FaexpEdu     530 non-null    int64  \n",
      " 7   CoexpEdu     530 non-null    int64  \n",
      " 8   Income       530 non-null    int64  \n",
      " 9   Grade        530 non-null    float64\n",
      " 10  Level        530 non-null    int64  \n",
      " 11  Sportyear    530 non-null    float64\n",
      " 12  ExpectEdu    530 non-null    int64  \n",
      " 13  a1           530 non-null    int64  \n",
      " 14  a2           530 non-null    int64  \n",
      " 15  a3           530 non-null    int64  \n",
      " 16  a4           530 non-null    int64  \n",
      " 17  a5           530 non-null    int64  \n",
      " 18  a6           530 non-null    int64  \n",
      " 19  a7           530 non-null    int64  \n",
      " 20  b1           530 non-null    int64  \n",
      " 21  b2           530 non-null    int64  \n",
      " 22  b3           530 non-null    int64  \n",
      " 23  b4           530 non-null    int64  \n",
      " 24  b5           530 non-null    int64  \n",
      " 25  b6           530 non-null    int64  \n",
      " 26  c1           530 non-null    int64  \n",
      " 27  c2           530 non-null    int64  \n",
      " 28  c3           530 non-null    int64  \n",
      " 29  c4           530 non-null    int64  \n",
      " 30  c5           530 non-null    int64  \n",
      " 31  c6           530 non-null    int64  \n",
      " 32  c7           530 non-null    int64  \n",
      " 33  c8           530 non-null    int64  \n",
      " 34  c9           530 non-null    int64  \n",
      " 35  c10          530 non-null    int64  \n",
      " 36  pl           530 non-null    float64\n",
      " 37  al           530 non-null    float64\n",
      " 38  ss           530 non-null    float64\n",
      " 39  tr           530 non-null    float64\n",
      " 40  blue         530 non-null    float64\n",
      " 41  achievement  530 non-null    float64\n",
      " 42  alienance    530 non-null    float64\n",
      "dtypes: float64(9), int64(34)\n",
      "memory usage: 178.2 KB\n",
      "None\n"
     ]
    }
   ],
   "source": [
    "import pingouin as pg\n",
    "from pingouin import pairwise_ttests\n",
    "import researchpy as rp\n",
    "import pandas as pd\n",
    "df = pd.read_csv('python2011nsc.csv')\n",
    "print(df.columns)\n",
    "print(df.info())"
   ]
  },
  {
   "cell_type": "code",
   "execution_count": 8,
   "id": "0dfd3979",
   "metadata": {},
   "outputs": [
    {
     "name": "stdout",
     "output_type": "stream",
     "text": [
      "\n",
      "\n"
     ]
    },
    {
     "data": {
      "text/html": [
       "<div>\n",
       "<style scoped>\n",
       "    .dataframe tbody tr th:only-of-type {\n",
       "        vertical-align: middle;\n",
       "    }\n",
       "\n",
       "    .dataframe tbody tr th {\n",
       "        vertical-align: top;\n",
       "    }\n",
       "\n",
       "    .dataframe thead th {\n",
       "        text-align: right;\n",
       "    }\n",
       "</style>\n",
       "<table border=\"1\" class=\"dataframe\">\n",
       "  <thead>\n",
       "    <tr style=\"text-align: right;\">\n",
       "      <th></th>\n",
       "      <th>N</th>\n",
       "      <th>Mean</th>\n",
       "      <th>SD</th>\n",
       "      <th>SE</th>\n",
       "      <th>95% Conf.</th>\n",
       "      <th>Interval</th>\n",
       "    </tr>\n",
       "    <tr>\n",
       "      <th>Race</th>\n",
       "      <th></th>\n",
       "      <th></th>\n",
       "      <th></th>\n",
       "      <th></th>\n",
       "      <th></th>\n",
       "      <th></th>\n",
       "    </tr>\n",
       "  </thead>\n",
       "  <tbody>\n",
       "    <tr>\n",
       "      <th>1</th>\n",
       "      <td>379</td>\n",
       "      <td>3.989</td>\n",
       "      <td>0.647</td>\n",
       "      <td>0.033</td>\n",
       "      <td>3.923</td>\n",
       "      <td>4.054</td>\n",
       "    </tr>\n",
       "    <tr>\n",
       "      <th>2</th>\n",
       "      <td>58</td>\n",
       "      <td>4.035</td>\n",
       "      <td>0.595</td>\n",
       "      <td>0.078</td>\n",
       "      <td>3.878</td>\n",
       "      <td>4.191</td>\n",
       "    </tr>\n",
       "    <tr>\n",
       "      <th>3</th>\n",
       "      <td>93</td>\n",
       "      <td>3.728</td>\n",
       "      <td>0.789</td>\n",
       "      <td>0.082</td>\n",
       "      <td>3.565</td>\n",
       "      <td>3.890</td>\n",
       "    </tr>\n",
       "  </tbody>\n",
       "</table>\n",
       "</div>"
      ],
      "text/plain": [
       "        N   Mean     SD     SE  95% Conf.  Interval\n",
       "Race                                               \n",
       "1     379  3.989  0.647  0.033      3.923     4.054\n",
       "2      58  4.035  0.595  0.078      3.878     4.191\n",
       "3      93  3.728  0.789  0.082      3.565     3.890"
      ]
     },
     "execution_count": 8,
     "metadata": {},
     "output_type": "execute_result"
    }
   ],
   "source": [
    "rp.summary_cont(df['pl'].groupby(df['Race'])).round(3)"
   ]
  },
  {
   "cell_type": "code",
   "execution_count": 9,
   "id": "d0bd4c3f",
   "metadata": {},
   "outputs": [
    {
     "data": {
      "text/plain": [
       "LeveneResult(statistic=4.717269339493504, pvalue=0.009320476578738789)"
      ]
     },
     "execution_count": 9,
     "metadata": {},
     "output_type": "execute_result"
    }
   ],
   "source": [
    "import scipy.stats as stats\n",
    "stats.levene(df['pl'][df['Race'] == 1],\n",
    "            df['pl'][df['Race'] == 2],\n",
    "            df['pl'][df['Race'] == 3],\n",
    "            center = 'mean')"
   ]
  },
  {
   "cell_type": "code",
   "execution_count": 10,
   "id": "7baf31c2",
   "metadata": {},
   "outputs": [
    {
     "data": {
      "text/html": [
       "<div>\n",
       "<style scoped>\n",
       "    .dataframe tbody tr th:only-of-type {\n",
       "        vertical-align: middle;\n",
       "    }\n",
       "\n",
       "    .dataframe tbody tr th {\n",
       "        vertical-align: top;\n",
       "    }\n",
       "\n",
       "    .dataframe thead th {\n",
       "        text-align: right;\n",
       "    }\n",
       "</style>\n",
       "<table border=\"1\" class=\"dataframe\">\n",
       "  <thead>\n",
       "    <tr style=\"text-align: right;\">\n",
       "      <th></th>\n",
       "      <th>Source</th>\n",
       "      <th>SS</th>\n",
       "      <th>DF</th>\n",
       "      <th>MS</th>\n",
       "      <th>F</th>\n",
       "      <th>p-unc</th>\n",
       "      <th>np2</th>\n",
       "    </tr>\n",
       "  </thead>\n",
       "  <tbody>\n",
       "    <tr>\n",
       "      <th>0</th>\n",
       "      <td>Race</td>\n",
       "      <td>5.575</td>\n",
       "      <td>2</td>\n",
       "      <td>2.788</td>\n",
       "      <td>6.231</td>\n",
       "      <td>0.002</td>\n",
       "      <td>0.023</td>\n",
       "    </tr>\n",
       "    <tr>\n",
       "      <th>1</th>\n",
       "      <td>Within</td>\n",
       "      <td>235.758</td>\n",
       "      <td>527</td>\n",
       "      <td>0.447</td>\n",
       "      <td>NaN</td>\n",
       "      <td>NaN</td>\n",
       "      <td>NaN</td>\n",
       "    </tr>\n",
       "  </tbody>\n",
       "</table>\n",
       "</div>"
      ],
      "text/plain": [
       "   Source       SS   DF     MS      F  p-unc    np2\n",
       "0    Race    5.575    2  2.788  6.231  0.002  0.023\n",
       "1  Within  235.758  527  0.447    NaN    NaN    NaN"
      ]
     },
     "execution_count": 10,
     "metadata": {},
     "output_type": "execute_result"
    }
   ],
   "source": [
    "aov = pg.anova(dv = 'pl', between = 'Race', data = df, detailed = True).round(3)\n",
    "aov"
   ]
  },
  {
   "cell_type": "code",
   "execution_count": 11,
   "id": "2740387b",
   "metadata": {},
   "outputs": [],
   "source": [
    "G = df['Race'].unique()\n",
    "args = []\n",
    "for i in list(G):\n",
    "    args.append(df[df['Race'] == i]['pl'])"
   ]
  },
  {
   "cell_type": "code",
   "execution_count": 12,
   "id": "6d8c03e5",
   "metadata": {},
   "outputs": [
    {
     "data": {
      "text/plain": [
       "LeveneResult(statistic=4.864967757524489, pvalue=0.008061929546969488)"
      ]
     },
     "execution_count": 12,
     "metadata": {},
     "output_type": "execute_result"
    }
   ],
   "source": [
    "from scipy import stats\n",
    "stats.levene(*args)"
   ]
  },
  {
   "cell_type": "code",
   "execution_count": 14,
   "id": "813b293d",
   "metadata": {},
   "outputs": [
    {
     "data": {
      "text/plain": [
       "F_onewayResult(statistic=6.231133175983131, pvalue=0.002115214833399516)"
      ]
     },
     "execution_count": 14,
     "metadata": {},
     "output_type": "execute_result"
    }
   ],
   "source": [
    "from scipy import stats\n",
    "stats.f_oneway(*args)"
   ]
  },
  {
   "cell_type": "code",
   "execution_count": 15,
   "id": "c5fd0af0",
   "metadata": {},
   "outputs": [
    {
     "name": "stderr",
     "output_type": "stream",
     "text": [
      "C:\\ProgramData\\Anaconda3\\lib\\site-packages\\pingouin\\pairwise.py:28: UserWarning: pairwise_ttests is deprecated, use pairwise_tests instead.\n",
      "  warnings.warn(\"pairwise_ttests is deprecated, use pairwise_tests instead.\", UserWarning)\n"
     ]
    },
    {
     "data": {
      "text/html": [
       "<div>\n",
       "<style scoped>\n",
       "    .dataframe tbody tr th:only-of-type {\n",
       "        vertical-align: middle;\n",
       "    }\n",
       "\n",
       "    .dataframe tbody tr th {\n",
       "        vertical-align: top;\n",
       "    }\n",
       "\n",
       "    .dataframe thead th {\n",
       "        text-align: right;\n",
       "    }\n",
       "</style>\n",
       "<table border=\"1\" class=\"dataframe\">\n",
       "  <thead>\n",
       "    <tr style=\"text-align: right;\">\n",
       "      <th></th>\n",
       "      <th>Contrast</th>\n",
       "      <th>A</th>\n",
       "      <th>B</th>\n",
       "      <th>Paired</th>\n",
       "      <th>Parametric</th>\n",
       "      <th>T</th>\n",
       "      <th>dof</th>\n",
       "      <th>alternative</th>\n",
       "      <th>p-unc</th>\n",
       "      <th>p-corr</th>\n",
       "      <th>p-adjust</th>\n",
       "      <th>BF10</th>\n",
       "      <th>hedges</th>\n",
       "    </tr>\n",
       "  </thead>\n",
       "  <tbody>\n",
       "    <tr>\n",
       "      <th>0</th>\n",
       "      <td>Race</td>\n",
       "      <td>1</td>\n",
       "      <td>2</td>\n",
       "      <td>False</td>\n",
       "      <td>True</td>\n",
       "      <td>-0.541</td>\n",
       "      <td>79.142</td>\n",
       "      <td>two-sided</td>\n",
       "      <td>0.590</td>\n",
       "      <td>1.000</td>\n",
       "      <td>bonf</td>\n",
       "      <td>0.176</td>\n",
       "      <td>-0.072</td>\n",
       "    </tr>\n",
       "    <tr>\n",
       "      <th>1</th>\n",
       "      <td>Race</td>\n",
       "      <td>1</td>\n",
       "      <td>3</td>\n",
       "      <td>False</td>\n",
       "      <td>True</td>\n",
       "      <td>2.954</td>\n",
       "      <td>124.025</td>\n",
       "      <td>two-sided</td>\n",
       "      <td>0.004</td>\n",
       "      <td>0.011</td>\n",
       "      <td>bonf</td>\n",
       "      <td>8.007</td>\n",
       "      <td>0.385</td>\n",
       "    </tr>\n",
       "    <tr>\n",
       "      <th>2</th>\n",
       "      <td>Race</td>\n",
       "      <td>2</td>\n",
       "      <td>3</td>\n",
       "      <td>False</td>\n",
       "      <td>True</td>\n",
       "      <td>2.713</td>\n",
       "      <td>143.642</td>\n",
       "      <td>two-sided</td>\n",
       "      <td>0.007</td>\n",
       "      <td>0.022</td>\n",
       "      <td>bonf</td>\n",
       "      <td>4.979</td>\n",
       "      <td>0.423</td>\n",
       "    </tr>\n",
       "  </tbody>\n",
       "</table>\n",
       "</div>"
      ],
      "text/plain": [
       "  Contrast  A  B  Paired  Parametric      T      dof alternative  p-unc  \\\n",
       "0     Race  1  2   False        True -0.541   79.142   two-sided  0.590   \n",
       "1     Race  1  3   False        True  2.954  124.025   two-sided  0.004   \n",
       "2     Race  2  3   False        True  2.713  143.642   two-sided  0.007   \n",
       "\n",
       "   p-corr p-adjust   BF10  hedges  \n",
       "0   1.000     bonf  0.176  -0.072  \n",
       "1   0.011     bonf  8.007   0.385  \n",
       "2   0.022     bonf  4.979   0.423  "
      ]
     },
     "execution_count": 15,
     "metadata": {},
     "output_type": "execute_result"
    }
   ],
   "source": [
    "import pingouin as pg\n",
    "pg.pairwise_ttests(dv='pl', between='Race', padjust = 'bonf', data=df).round(3)"
   ]
  },
  {
   "cell_type": "markdown",
   "id": "4d7e4054",
   "metadata": {},
   "source": [
    "### 資料相關度與簡單線性迴歸分析"
   ]
  },
  {
   "cell_type": "markdown",
   "id": "0f461a37",
   "metadata": {},
   "source": [
    "計算相關係數與繪製散布圖 scatter plot"
   ]
  },
  {
   "cell_type": "code",
   "execution_count": 17,
   "id": "b2a5c0f4",
   "metadata": {},
   "outputs": [
    {
     "data": {
      "image/png": "[encoded data removed]",
      "text/plain": [
       "<Figure size 432x288 with 1 Axes>"
      ]
     },
     "metadata": {
      "needs_background": "light"
     },
     "output_type": "display_data"
    }
   ],
   "source": [
    "import numpy as np\n",
    "import matplotlib.pyplot as plt\n",
    "\n",
    "usd = np.array([29.86,29.78,29.695,29.715,29.685,\n",
    "               29.665,29.67,29.635,29.625,29.665,\n",
    "               29.665,29.635,29.66,29.655,29.67,\n",
    "               29.64,29.61,29.585,29.51,29.34])\n",
    "\n",
    "gold = np.array([1583.1,1615,1651.35,1642.8,1643.8,\n",
    "                1674.75,1680.25,1701.65,1704.65,1711.1,\n",
    "                1685.2,1667.3,1684,1678.75,1702.65,\n",
    "                1718.1,1707.1,1692.2,1698.65,1708.1])\n",
    "\n",
    "plt.scatter(usd, gold)\n",
    "plt.show()"
   ]
  },
  {
   "cell_type": "code",
   "execution_count": 18,
   "id": "528e3ed2",
   "metadata": {},
   "outputs": [
    {
     "name": "stdout",
     "output_type": "stream",
     "text": [
      "[[ 1.         -0.70533216]\n",
      " [-0.70533216  1.        ]]\n"
     ]
    }
   ],
   "source": [
    "print(np.corrcoef(usd, gold))"
   ]
  },
  {
   "cell_type": "code",
   "execution_count": 19,
   "id": "5a50e737",
   "metadata": {},
   "outputs": [
    {
     "name": "stdout",
     "output_type": "stream",
     "text": [
      "[-245.1 8944.1]\n"
     ]
    }
   ],
   "source": [
    "# 求出迴歸模型\n",
    "print(np.polyfit(usd, gold, 1).round(1))"
   ]
  },
  {
   "cell_type": "code",
   "execution_count": 21,
   "id": "f1ae4b5a",
   "metadata": {},
   "outputs": [
    {
     "name": "stdout",
     "output_type": "stream",
     "text": [
      " \n",
      "-245.1 x + 8944\n"
     ]
    }
   ],
   "source": [
    "# 在程式中用回歸模型做預測\n",
    "coef = np.polyfit(usd, gold, 1)\n",
    "reg_model = np.poly1d(coef)\n",
    "\n",
    "print(reg_model)"
   ]
  },
  {
   "cell_type": "code",
   "execution_count": 22,
   "id": "48e7ab57",
   "metadata": {},
   "outputs": [
    {
     "name": "stdout",
     "output_type": "stream",
     "text": [
      "1652.587\n"
     ]
    }
   ],
   "source": [
    "print(reg_model(29.75).round(3))"
   ]
  },
  {
   "cell_type": "code",
   "execution_count": 23,
   "id": "d14ebf23",
   "metadata": {},
   "outputs": [
    {
     "data": {
      "image/png": "[encoded data removed]",
      "text/plain": [
       "<Figure size 432x288 with 1 Axes>"
      ]
     },
     "metadata": {
      "needs_background": "light"
     },
     "output_type": "display_data"
    }
   ],
   "source": [
    "# 繪製簡單回歸模型\n",
    "plt.scatter(usd, gold)\n",
    "plt.plot(usd, reg_model(usd), color='red')\n",
    "plt.show()"
   ]
  },
  {
   "cell_type": "code",
   "execution_count": 24,
   "id": "6bf9165c",
   "metadata": {},
   "outputs": [
    {
     "name": "stdout",
     "output_type": "stream",
     "text": [
      "[1625.626 1645.234 1666.067 1661.165 1668.518 1673.42  1672.194 1680.772\n",
      " 1683.223 1673.42  1673.42  1680.772 1674.645 1675.871 1672.194 1679.547\n",
      " 1686.9   1693.027 1711.409 1753.075]\n"
     ]
    }
   ],
   "source": [
    "print(reg_model(usd).round(3))"
   ]
  },
  {
   "cell_type": "markdown",
   "id": "82fa2389",
   "metadata": {},
   "source": [
    "放大圖形、加入圖表標題及軸文字、加入圖例和格線、調整圖表中文字大小"
   ]
  },
  {
   "cell_type": "code",
   "execution_count": 25,
   "id": "46cb5e2a",
   "metadata": {},
   "outputs": [
    {
     "data": {
      "image/png": "[encoded data removed]",
      "text/plain": [
       "<Figure size 864x576 with 1 Axes>"
      ]
     },
     "metadata": {
      "needs_background": "light"
     },
     "output_type": "display_data"
    }
   ],
   "source": [
    "plt.figure(figsize=(12,8))\n",
    "\n",
    "plt.scatter(usd, gold)\n",
    "plt.plot(usd, reg_model(usd), color='red', label='Prediction model')\n",
    "\n",
    "plt.title('Regreession chart')\n",
    "plt.xlabel('USD exchange rate (to TWD)')\n",
    "plt.ylabel('Gold price (in USD)')\n",
    "plt.legend()\n",
    "plt.grid(True)\n",
    "plt.show()"
   ]
  },
  {
   "cell_type": "markdown",
   "id": "3ac31244",
   "metadata": {},
   "source": [
    "在圖表中顯示中文"
   ]
  },
  {
   "cell_type": "code",
   "execution_count": 27,
   "id": "8bdb2702",
   "metadata": {},
   "outputs": [
    {
     "data": {
      "image/png": "[encoded data removed]",
      "text/plain": [
       "<Figure size 864x576 with 1 Axes>"
      ]
     },
     "metadata": {
      "needs_background": "light"
     },
     "output_type": "display_data"
    }
   ],
   "source": [
    "plt.figure(figsize=(12,8))\n",
    "plt.rcParams['font.family'] = 'Microsoft JhengHei'\n",
    "\n",
    "plt.scatter(usd, gold)\n",
    "plt.plot(usd, reg_model(usd), color='red', label='預測模型')\n",
    "\n",
    "plt.title('迴歸分析圖表')\n",
    "plt.xlabel('美元對台幣匯率 (台幣)')\n",
    "plt.ylabel('每盎司金價 (美元)')\n",
    "plt.legend()\n",
    "plt.grid(True)\n",
    "plt.show()"
   ]
  },
  {
   "cell_type": "markdown",
   "id": "147a6c24",
   "metadata": {},
   "source": [
    "非線性迴歸模型"
   ]
  },
  {
   "cell_type": "code",
   "execution_count": 28,
   "id": "32fdcbbd",
   "metadata": {},
   "outputs": [
    {
     "name": "stdout",
     "output_type": "stream",
     "text": [
      "        2\n",
      "-897.7 x + 5.289e+04 x - 7.774e+05\n"
     ]
    },
    {
     "data": {
      "image/png": "[encoded data removed]",
      "text/plain": [
       "<Figure size 432x288 with 1 Axes>"
      ]
     },
     "metadata": {
      "needs_background": "light"
     },
     "output_type": "display_data"
    }
   ],
   "source": [
    "import numpy as np\n",
    "import matplotlib.pyplot as plt\n",
    "\n",
    "usd = np.array([29.86,29.78,29.695,29.715,29.685,\n",
    "               29.665,29.67,29.635,29.625,29.665,\n",
    "               29.665,29.635,29.66,29.655,29.67,\n",
    "               29.64,29.61,29.585,29.51,29.34])\n",
    "\n",
    "gold = np.array([1583.1,1615,1651.35,1642.8,1643.8,\n",
    "                1674.75,1680.25,1701.65,1704.65,1711.1,\n",
    "                1685.2,1667.3,1684,1678.75,1702.65,\n",
    "                1718.1,1707.1,1692.2,1698.65,1708.1])\n",
    "\n",
    "coef = np.polyfit(usd, gold, 2)\n",
    "reg2_model = np.poly1d(coef)\n",
    "print(reg2_model)\n",
    "\n",
    "plt.scatter(usd, gold)\n",
    "plt.plot(usd, reg2_model(usd), color='red')\n",
    "plt.show()"
   ]
  },
  {
   "cell_type": "code",
   "execution_count": 29,
   "id": "75f4a5b2",
   "metadata": {},
   "outputs": [
    {
     "name": "stdout",
     "output_type": "stream",
     "text": [
      "            5             4             3             2\n",
      "-4.873e+04 x + 7.249e+06 x - 4.313e+08 x + 1.283e+10 x - 1.909e+11 x + 1.136e+12\n"
     ]
    },
    {
     "data": {
      "image/png": "[encoded data removed]",
      "text/plain": [
       "<Figure size 432x288 with 1 Axes>"
      ]
     },
     "metadata": {
      "needs_background": "light"
     },
     "output_type": "display_data"
    }
   ],
   "source": [
    "# 調整次方\n",
    "coef = np.polyfit(usd,gold, 5)\n",
    "reg5_model = np.poly1d(coef)\n",
    "print(reg5_model)\n",
    "\n",
    "plt.scatter(usd, gold)\n",
    "plt.plot(usd, reg5_model(usd), color='red')\n",
    "plt.show()"
   ]
  },
  {
   "cell_type": "markdown",
   "id": "d73df909",
   "metadata": {},
   "source": [
    "#### 作業:利用python簡易運算完成一元線性回歸"
   ]
  },
  {
   "cell_type": "code",
   "execution_count": 31,
   "id": "a5787ecf",
   "metadata": {},
   "outputs": [
    {
     "data": {
      "image/png": "[encoded data removed]",
      "text/plain": [
       "<Figure size 432x288 with 1 Axes>"
      ]
     },
     "metadata": {
      "needs_background": "light"
     },
     "output_type": "display_data"
    }
   ],
   "source": [
    "import numpy as np\n",
    "import matplotlib.pyplot as plt\n",
    "\n",
    "#已銷售房屋面積(m**2)\n",
    "x = np.array([137.97,104.50,100.00,124.32,79.20,99.00,124.00,114.00,\n",
    "              106.69,138.05,53.75,46.91,68.00,63.02,81.26,86.21])\n",
    "#已銷售房屋價格\n",
    "y = np.array([145.00,110.00,93.00,116.00,65.32,104.00,118.00,91.00,  \n",
    "              62.00,133.00,51.00,45.00,78.50,69.65,75.69,95.30])\n",
    "\n",
    "plt.scatter(x, y)\n",
    "plt.show()"
   ]
  },
  {
   "cell_type": "code",
   "execution_count": 34,
   "id": "3b148dd5",
   "metadata": {},
   "outputs": [
    {
     "name": "stdout",
     "output_type": "stream",
     "text": [
      "[0.9 5.4]\n"
     ]
    }
   ],
   "source": [
    "# 求出迴歸模型\n",
    "print(np.polyfit(x, y, 1).round(1))"
   ]
  },
  {
   "cell_type": "code",
   "execution_count": 36,
   "id": "e2a761ed",
   "metadata": {},
   "outputs": [
    {
     "name": "stdout",
     "output_type": "stream",
     "text": [
      " \n",
      "0.8946 x + 5.411\n"
     ]
    }
   ],
   "source": [
    "# 在程式中用回歸模型做預測\n",
    "coef = np.polyfit(x, y, 1)\n",
    "reg_model = np.poly1d(coef)\n",
    "\n",
    "print(reg_model)"
   ]
  },
  {
   "cell_type": "code",
   "execution_count": 37,
   "id": "8cac8d97",
   "metadata": {},
   "outputs": [
    {
     "name": "stdout",
     "output_type": "stream",
     "text": [
      "32.024\n"
     ]
    }
   ],
   "source": [
    "print(reg_model(29.75).round(3))"
   ]
  },
  {
   "cell_type": "code",
   "execution_count": 39,
   "id": "e779b787",
   "metadata": {
    "scrolled": true
   },
   "outputs": [
    {
     "data": {
      "image/png": "[encoded data removed]",
      "text/plain": [
       "<Figure size 432x288 with 1 Axes>"
      ]
     },
     "metadata": {
      "needs_background": "light"
     },
     "output_type": "display_data"
    }
   ],
   "source": [
    "# 繪製簡單回歸模型\n",
    "plt.scatter(x, y)\n",
    "plt.plot(x, reg_model(x), color='red')\n",
    "plt.show()"
   ]
  },
  {
   "cell_type": "markdown",
   "id": "ff79ef07",
   "metadata": {},
   "source": [
    "### 課堂練習"
   ]
  },
  {
   "attachments": {
    "image.png": {
     "image/png": "[encoded data removed]"
    }
   },
   "cell_type": "markdown",
   "id": "c53516e3",
   "metadata": {},
   "source": [
    "![image.png](attachment:image.png)"
   ]
  },
  {
   "cell_type": "code",
   "execution_count": 3,
   "id": "57a905be",
   "metadata": {},
   "outputs": [
    {
     "name": "stdout",
     "output_type": "stream",
     "text": [
      "線性方程式為: Sales = 41.46 * Area + -0.34 * Distance + 66.07\n"
     ]
    }
   ],
   "source": [
    "import pandas as pd\n",
    "import numpy as np\n",
    "from sklearn.linear_model import LinearRegression\n",
    "\n",
    "# 創建資料信\n",
    "df = pd.DataFrame({'Area':[10,8,8,5,7,8,7,9,6,9],\n",
    "                  'Distance':[80,2,200,200,300,230,40,0,330,180],\n",
    "                  'Sales':[469,366,371,208,246,297,363,436,198,364]})\n",
    "\n",
    "# 擷取自變項和依變項\n",
    "X = df[['Area', 'Distance']]\n",
    "y = df['Sales']\n",
    "\n",
    "# 建立線性回歸模型\n",
    "model = LinearRegression()\n",
    "model.fit(X, y)\n",
    "\n",
    "# 計算迴歸係數和截距\n",
    "coef = model.coef_\n",
    "intercept = model.intercept_\n",
    "\n",
    "# 輸出線性方程式\n",
    "print(f\"線性方程式為: Sales = {coef[0]:.2f} * Area + {coef[1]:.2f} * Distance + {intercept:.2f}\")"
   ]
  },
  {
   "cell_type": "code",
   "execution_count": 5,
   "id": "0d51d656",
   "metadata": {},
   "outputs": [
    {
     "name": "stdout",
     "output_type": "stream",
     "text": [
      "當面積為10坪，距離為110公里時，單月銷售額預測值為： 442.98\n"
     ]
    },
    {
     "name": "stderr",
     "output_type": "stream",
     "text": [
      "C:\\ProgramData\\Anaconda3\\lib\\site-packages\\sklearn\\base.py:450: UserWarning: X does not have valid feature names, but LinearRegression was fitted with feature names\n",
      "  warnings.warn(\n"
     ]
    }
   ],
   "source": [
    "# 設定預測值\n",
    "new_X = np.array([[10,110]])\n",
    "\n",
    "# 預測單月銷售額\n",
    "predicted_sales = model.predict(new_X)\n",
    "\n",
    "# 輸出預測結果\n",
    "print(f\"當面積為10坪，距離為110公里時，單月銷售額預測值為： {predicted_sales[0]:.2f}\")\n"
   ]
  },
  {
   "cell_type": "code",
   "execution_count": null,
   "id": "964b420b",
   "metadata": {},
   "outputs": [],
   "source": []
  },
  {
   "cell_type": "code",
   "execution_count": null,
   "id": "8705446e",
   "metadata": {},
   "outputs": [],
   "source": []
  },
  {
   "cell_type": "code",
   "execution_count": null,
   "id": "a64f376e",
   "metadata": {},
   "outputs": [],
   "source": []
  },
  {
   "cell_type": "markdown",
   "id": "24eaaf7e",
   "metadata": {},
   "source": [
    "### 線性迴歸分析的執行"
   ]
  },
  {
   "cell_type": "markdown",
   "id": "d258cdbb",
   "metadata": {},
   "source": [
    "簡單線性迴歸分析"
   ]
  },
  {
   "cell_type": "code",
   "execution_count": 40,
   "id": "5a61942e",
   "metadata": {},
   "outputs": [
    {
     "data": {
      "text/html": [
       "<table class=\"simpletable\">\n",
       "<caption>OLS Regression Results</caption>\n",
       "<tr>\n",
       "  <th>Dep. Variable:</th>        <td>ExpectEdu</td>    <th>  R-squared:         </th> <td>   0.043</td>\n",
       "</tr>\n",
       "<tr>\n",
       "  <th>Model:</th>                   <td>OLS</td>       <th>  Adj. R-squared:    </th> <td>   0.041</td>\n",
       "</tr>\n",
       "<tr>\n",
       "  <th>Method:</th>             <td>Least Squares</td>  <th>  F-statistic:       </th> <td>   23.82</td>\n",
       "</tr>\n",
       "<tr>\n",
       "  <th>Date:</th>             <td>Mon, 01 May 2023</td> <th>  Prob (F-statistic):</th> <td>1.40e-06</td>\n",
       "</tr>\n",
       "<tr>\n",
       "  <th>Time:</th>                 <td>15:41:01</td>     <th>  Log-Likelihood:    </th> <td> -527.43</td>\n",
       "</tr>\n",
       "<tr>\n",
       "  <th>No. Observations:</th>      <td>   530</td>      <th>  AIC:               </th> <td>   1059.</td>\n",
       "</tr>\n",
       "<tr>\n",
       "  <th>Df Residuals:</th>          <td>   528</td>      <th>  BIC:               </th> <td>   1067.</td>\n",
       "</tr>\n",
       "<tr>\n",
       "  <th>Df Model:</th>              <td>     1</td>      <th>                     </th>     <td> </td>   \n",
       "</tr>\n",
       "<tr>\n",
       "  <th>Covariance Type:</th>      <td>nonrobust</td>    <th>                     </th>     <td> </td>   \n",
       "</tr>\n",
       "</table>\n",
       "<table class=\"simpletable\">\n",
       "<tr>\n",
       "    <td></td>       <th>coef</th>     <th>std err</th>      <th>t</th>      <th>P>|t|</th>  <th>[0.025</th>    <th>0.975]</th>  \n",
       "</tr>\n",
       "<tr>\n",
       "  <th>const</th> <td>    1.8946</td> <td>    0.083</td> <td>   22.907</td> <td> 0.000</td> <td>    1.732</td> <td>    2.057</td>\n",
       "</tr>\n",
       "<tr>\n",
       "  <th>FaEdu</th> <td>    0.1254</td> <td>    0.026</td> <td>    4.881</td> <td> 0.000</td> <td>    0.075</td> <td>    0.176</td>\n",
       "</tr>\n",
       "</table>\n",
       "<table class=\"simpletable\">\n",
       "<tr>\n",
       "  <th>Omnibus:</th>       <td>111.942</td> <th>  Durbin-Watson:     </th> <td>   2.010</td>\n",
       "</tr>\n",
       "<tr>\n",
       "  <th>Prob(Omnibus):</th> <td> 0.000</td>  <th>  Jarque-Bera (JB):  </th> <td> 193.891</td>\n",
       "</tr>\n",
       "<tr>\n",
       "  <th>Skew:</th>          <td> 1.258</td>  <th>  Prob(JB):          </th> <td>7.89e-43</td>\n",
       "</tr>\n",
       "<tr>\n",
       "  <th>Kurtosis:</th>      <td> 4.565</td>  <th>  Cond. No.          </th> <td>    10.2</td>\n",
       "</tr>\n",
       "</table><br/><br/>Notes:<br/>[1] Standard Errors assume that the covariance matrix of the errors is correctly specified."
      ],
      "text/plain": [
       "<class 'statsmodels.iolib.summary.Summary'>\n",
       "\"\"\"\n",
       "                            OLS Regression Results                            \n",
       "==============================================================================\n",
       "Dep. Variable:              ExpectEdu   R-squared:                       0.043\n",
       "Model:                            OLS   Adj. R-squared:                  0.041\n",
       "Method:                 Least Squares   F-statistic:                     23.82\n",
       "Date:                Mon, 01 May 2023   Prob (F-statistic):           1.40e-06\n",
       "Time:                        15:41:01   Log-Likelihood:                -527.43\n",
       "No. Observations:                 530   AIC:                             1059.\n",
       "Df Residuals:                     528   BIC:                             1067.\n",
       "Df Model:                           1                                         \n",
       "Covariance Type:            nonrobust                                         \n",
       "==============================================================================\n",
       "                 coef    std err          t      P>|t|      [0.025      0.975]\n",
       "------------------------------------------------------------------------------\n",
       "const          1.8946      0.083     22.907      0.000       1.732       2.057\n",
       "FaEdu          0.1254      0.026      4.881      0.000       0.075       0.176\n",
       "==============================================================================\n",
       "Omnibus:                      111.942   Durbin-Watson:                   2.010\n",
       "Prob(Omnibus):                  0.000   Jarque-Bera (JB):              193.891\n",
       "Skew:                           1.258   Prob(JB):                     7.89e-43\n",
       "Kurtosis:                       4.565   Cond. No.                         10.2\n",
       "==============================================================================\n",
       "\n",
       "Notes:\n",
       "[1] Standard Errors assume that the covariance matrix of the errors is correctly specified.\n",
       "\"\"\""
      ]
     },
     "execution_count": 40,
     "metadata": {},
     "output_type": "execute_result"
    }
   ],
   "source": [
    "import statsmodels.api as sm\n",
    "y = df['ExpectEdu']\n",
    "x = df['FaEdu']\n",
    "x = sm.add_constant(x)\n",
    "Edumodel = sm.OLS(y, x).fit()\n",
    "Edumodel.summary()"
   ]
  },
  {
   "cell_type": "code",
   "execution_count": 42,
   "id": "c1e2fee3",
   "metadata": {},
   "outputs": [
    {
     "name": "stdout",
     "output_type": "stream",
     "text": [
      "<bound method RegressionResults.summary of <statsmodels.regression.linear_model.OLSResults object at 0x000002F510AAB8B0>>\n"
     ]
    }
   ],
   "source": [
    "import statsmodels.formula.api as sm\n",
    "model2 = sm.ols('ExpectEdu~FaEdu', df).fit()\n",
    "print(model2.summary)"
   ]
  },
  {
   "cell_type": "code",
   "execution_count": 43,
   "id": "059a7f2f",
   "metadata": {},
   "outputs": [
    {
     "data": {
      "text/html": [
       "<div>\n",
       "<style scoped>\n",
       "    .dataframe tbody tr th:only-of-type {\n",
       "        vertical-align: middle;\n",
       "    }\n",
       "\n",
       "    .dataframe tbody tr th {\n",
       "        vertical-align: top;\n",
       "    }\n",
       "\n",
       "    .dataframe thead th {\n",
       "        text-align: right;\n",
       "    }\n",
       "</style>\n",
       "<table border=\"1\" class=\"dataframe\">\n",
       "  <thead>\n",
       "    <tr style=\"text-align: right;\">\n",
       "      <th></th>\n",
       "      <th>names</th>\n",
       "      <th>coef</th>\n",
       "      <th>se</th>\n",
       "      <th>T</th>\n",
       "      <th>pval</th>\n",
       "      <th>r2</th>\n",
       "      <th>adj_r2</th>\n",
       "      <th>CI[2.5%]</th>\n",
       "      <th>CI[97.5%]</th>\n",
       "    </tr>\n",
       "  </thead>\n",
       "  <tbody>\n",
       "    <tr>\n",
       "      <th>0</th>\n",
       "      <td>Intercept</td>\n",
       "      <td>1.895</td>\n",
       "      <td>0.083</td>\n",
       "      <td>22.907</td>\n",
       "      <td>0.0</td>\n",
       "      <td>0.043</td>\n",
       "      <td>0.041</td>\n",
       "      <td>1.732</td>\n",
       "      <td>2.057</td>\n",
       "    </tr>\n",
       "    <tr>\n",
       "      <th>1</th>\n",
       "      <td>FaEdu</td>\n",
       "      <td>0.125</td>\n",
       "      <td>0.026</td>\n",
       "      <td>4.881</td>\n",
       "      <td>0.0</td>\n",
       "      <td>0.043</td>\n",
       "      <td>0.041</td>\n",
       "      <td>0.075</td>\n",
       "      <td>0.176</td>\n",
       "    </tr>\n",
       "  </tbody>\n",
       "</table>\n",
       "</div>"
      ],
      "text/plain": [
       "       names   coef     se       T  pval     r2  adj_r2  CI[2.5%]  CI[97.5%]\n",
       "0  Intercept  1.895  0.083  22.907   0.0  0.043   0.041     1.732      2.057\n",
       "1      FaEdu  0.125  0.026   4.881   0.0  0.043   0.041     0.075      0.176"
      ]
     },
     "execution_count": 43,
     "metadata": {},
     "output_type": "execute_result"
    }
   ],
   "source": [
    "import pingouin as pg\n",
    "lm = pg.linear_regression(df['FaEdu'], df['ExpectEdu'])\n",
    "lm.round(3)"
   ]
  },
  {
   "cell_type": "markdown",
   "id": "161a8fb5",
   "metadata": {},
   "source": [
    "多元線性迴歸分析"
   ]
  },
  {
   "cell_type": "code",
   "execution_count": 44,
   "id": "a075fb7e",
   "metadata": {},
   "outputs": [
    {
     "data": {
      "text/html": [
       "<table class=\"simpletable\">\n",
       "<caption>OLS Regression Results</caption>\n",
       "<tr>\n",
       "  <th>Dep. Variable:</th>       <td>achievement</td>   <th>  R-squared:         </th> <td>   0.153</td>\n",
       "</tr>\n",
       "<tr>\n",
       "  <th>Model:</th>                   <td>OLS</td>       <th>  Adj. R-squared:    </th> <td>   0.143</td>\n",
       "</tr>\n",
       "<tr>\n",
       "  <th>Method:</th>             <td>Least Squares</td>  <th>  F-statistic:       </th> <td>   15.73</td>\n",
       "</tr>\n",
       "<tr>\n",
       "  <th>Date:</th>             <td>Mon, 01 May 2023</td> <th>  Prob (F-statistic):</th> <td>1.23e-16</td>\n",
       "</tr>\n",
       "<tr>\n",
       "  <th>Time:</th>                 <td>15:44:18</td>     <th>  Log-Likelihood:    </th> <td> -503.95</td>\n",
       "</tr>\n",
       "<tr>\n",
       "  <th>No. Observations:</th>      <td>   530</td>      <th>  AIC:               </th> <td>   1022.</td>\n",
       "</tr>\n",
       "<tr>\n",
       "  <th>Df Residuals:</th>          <td>   523</td>      <th>  BIC:               </th> <td>   1052.</td>\n",
       "</tr>\n",
       "<tr>\n",
       "  <th>Df Model:</th>              <td>     6</td>      <th>                     </th>     <td> </td>   \n",
       "</tr>\n",
       "<tr>\n",
       "  <th>Covariance Type:</th>      <td>nonrobust</td>    <th>                     </th>     <td> </td>   \n",
       "</tr>\n",
       "</table>\n",
       "<table class=\"simpletable\">\n",
       "<tr>\n",
       "      <td></td>         <th>coef</th>     <th>std err</th>      <th>t</th>      <th>P>|t|</th>  <th>[0.025</th>    <th>0.975]</th>  \n",
       "</tr>\n",
       "<tr>\n",
       "  <th>Intercept</th> <td>    0.5729</td> <td>    0.287</td> <td>    1.996</td> <td> 0.046</td> <td>    0.009</td> <td>    1.137</td>\n",
       "</tr>\n",
       "<tr>\n",
       "  <th>Sportyear</th> <td>    0.0065</td> <td>    0.012</td> <td>    0.553</td> <td> 0.581</td> <td>   -0.016</td> <td>    0.029</td>\n",
       "</tr>\n",
       "<tr>\n",
       "  <th>ExpectEdu</th> <td>    0.0678</td> <td>    0.041</td> <td>    1.642</td> <td> 0.101</td> <td>   -0.013</td> <td>    0.149</td>\n",
       "</tr>\n",
       "<tr>\n",
       "  <th>pl</th>        <td>    0.1176</td> <td>    0.044</td> <td>    2.685</td> <td> 0.007</td> <td>    0.032</td> <td>    0.204</td>\n",
       "</tr>\n",
       "<tr>\n",
       "  <th>al</th>        <td>    0.1384</td> <td>    0.052</td> <td>    2.684</td> <td> 0.008</td> <td>    0.037</td> <td>    0.240</td>\n",
       "</tr>\n",
       "<tr>\n",
       "  <th>ss</th>        <td>    0.2883</td> <td>    0.044</td> <td>    6.571</td> <td> 0.000</td> <td>    0.202</td> <td>    0.374</td>\n",
       "</tr>\n",
       "<tr>\n",
       "  <th>tr</th>        <td>   -0.0493</td> <td>    0.037</td> <td>   -1.334</td> <td> 0.183</td> <td>   -0.122</td> <td>    0.023</td>\n",
       "</tr>\n",
       "</table>\n",
       "<table class=\"simpletable\">\n",
       "<tr>\n",
       "  <th>Omnibus:</th>       <td> 8.215</td> <th>  Durbin-Watson:     </th> <td>   1.779</td>\n",
       "</tr>\n",
       "<tr>\n",
       "  <th>Prob(Omnibus):</th> <td> 0.016</td> <th>  Jarque-Bera (JB):  </th> <td>   5.367</td>\n",
       "</tr>\n",
       "<tr>\n",
       "  <th>Skew:</th>          <td>-0.077</td> <th>  Prob(JB):          </th> <td>  0.0683</td>\n",
       "</tr>\n",
       "<tr>\n",
       "  <th>Kurtosis:</th>      <td> 2.532</td> <th>  Cond. No.          </th> <td>    98.4</td>\n",
       "</tr>\n",
       "</table><br/><br/>Notes:<br/>[1] Standard Errors assume that the covariance matrix of the errors is correctly specified."
      ],
      "text/plain": [
       "<class 'statsmodels.iolib.summary.Summary'>\n",
       "\"\"\"\n",
       "                            OLS Regression Results                            \n",
       "==============================================================================\n",
       "Dep. Variable:            achievement   R-squared:                       0.153\n",
       "Model:                            OLS   Adj. R-squared:                  0.143\n",
       "Method:                 Least Squares   F-statistic:                     15.73\n",
       "Date:                Mon, 01 May 2023   Prob (F-statistic):           1.23e-16\n",
       "Time:                        15:44:18   Log-Likelihood:                -503.95\n",
       "No. Observations:                 530   AIC:                             1022.\n",
       "Df Residuals:                     523   BIC:                             1052.\n",
       "Df Model:                           6                                         \n",
       "Covariance Type:            nonrobust                                         \n",
       "==============================================================================\n",
       "                 coef    std err          t      P>|t|      [0.025      0.975]\n",
       "------------------------------------------------------------------------------\n",
       "Intercept      0.5729      0.287      1.996      0.046       0.009       1.137\n",
       "Sportyear      0.0065      0.012      0.553      0.581      -0.016       0.029\n",
       "ExpectEdu      0.0678      0.041      1.642      0.101      -0.013       0.149\n",
       "pl             0.1176      0.044      2.685      0.007       0.032       0.204\n",
       "al             0.1384      0.052      2.684      0.008       0.037       0.240\n",
       "ss             0.2883      0.044      6.571      0.000       0.202       0.374\n",
       "tr            -0.0493      0.037     -1.334      0.183      -0.122       0.023\n",
       "==============================================================================\n",
       "Omnibus:                        8.215   Durbin-Watson:                   1.779\n",
       "Prob(Omnibus):                  0.016   Jarque-Bera (JB):                5.367\n",
       "Skew:                          -0.077   Prob(JB):                       0.0683\n",
       "Kurtosis:                       2.532   Cond. No.                         98.4\n",
       "==============================================================================\n",
       "\n",
       "Notes:\n",
       "[1] Standard Errors assume that the covariance matrix of the errors is correctly specified.\n",
       "\"\"\""
      ]
     },
     "execution_count": 44,
     "metadata": {},
     "output_type": "execute_result"
    }
   ],
   "source": [
    "import statsmodels.formula.api as sm\n",
    "formula = 'achievement~Sportyear+ExpectEdu+pl+al+ss+tr'\n",
    "model3 = sm.ols(formula, data=df).fit()\n",
    "model3.summary()"
   ]
  },
  {
   "cell_type": "code",
   "execution_count": 47,
   "id": "4cce9d98",
   "metadata": {},
   "outputs": [
    {
     "data": {
      "text/html": [
       "<div>\n",
       "<style scoped>\n",
       "    .dataframe tbody tr th:only-of-type {\n",
       "        vertical-align: middle;\n",
       "    }\n",
       "\n",
       "    .dataframe tbody tr th {\n",
       "        vertical-align: top;\n",
       "    }\n",
       "\n",
       "    .dataframe thead th {\n",
       "        text-align: right;\n",
       "    }\n",
       "</style>\n",
       "<table border=\"1\" class=\"dataframe\">\n",
       "  <thead>\n",
       "    <tr style=\"text-align: right;\">\n",
       "      <th></th>\n",
       "      <th>names</th>\n",
       "      <th>coef</th>\n",
       "      <th>se</th>\n",
       "      <th>T</th>\n",
       "      <th>pval</th>\n",
       "      <th>r2</th>\n",
       "      <th>adj_r2</th>\n",
       "      <th>CI[2.5%]</th>\n",
       "      <th>CI[97.5%]</th>\n",
       "    </tr>\n",
       "  </thead>\n",
       "  <tbody>\n",
       "    <tr>\n",
       "      <th>0</th>\n",
       "      <td>Intercept</td>\n",
       "      <td>0.573</td>\n",
       "      <td>0.287</td>\n",
       "      <td>1.996</td>\n",
       "      <td>0.046</td>\n",
       "      <td>0.153</td>\n",
       "      <td>0.143</td>\n",
       "      <td>0.009</td>\n",
       "      <td>1.137</td>\n",
       "    </tr>\n",
       "    <tr>\n",
       "      <th>1</th>\n",
       "      <td>Sportyear</td>\n",
       "      <td>0.006</td>\n",
       "      <td>0.012</td>\n",
       "      <td>0.553</td>\n",
       "      <td>0.581</td>\n",
       "      <td>0.153</td>\n",
       "      <td>0.143</td>\n",
       "      <td>-0.016</td>\n",
       "      <td>0.029</td>\n",
       "    </tr>\n",
       "    <tr>\n",
       "      <th>2</th>\n",
       "      <td>ExpectEdu</td>\n",
       "      <td>0.068</td>\n",
       "      <td>0.041</td>\n",
       "      <td>1.642</td>\n",
       "      <td>0.101</td>\n",
       "      <td>0.153</td>\n",
       "      <td>0.143</td>\n",
       "      <td>-0.013</td>\n",
       "      <td>0.149</td>\n",
       "    </tr>\n",
       "    <tr>\n",
       "      <th>3</th>\n",
       "      <td>pl</td>\n",
       "      <td>0.118</td>\n",
       "      <td>0.044</td>\n",
       "      <td>2.685</td>\n",
       "      <td>0.007</td>\n",
       "      <td>0.153</td>\n",
       "      <td>0.143</td>\n",
       "      <td>0.032</td>\n",
       "      <td>0.204</td>\n",
       "    </tr>\n",
       "    <tr>\n",
       "      <th>4</th>\n",
       "      <td>al</td>\n",
       "      <td>0.138</td>\n",
       "      <td>0.052</td>\n",
       "      <td>2.684</td>\n",
       "      <td>0.008</td>\n",
       "      <td>0.153</td>\n",
       "      <td>0.143</td>\n",
       "      <td>0.037</td>\n",
       "      <td>0.240</td>\n",
       "    </tr>\n",
       "    <tr>\n",
       "      <th>5</th>\n",
       "      <td>ss</td>\n",
       "      <td>0.288</td>\n",
       "      <td>0.044</td>\n",
       "      <td>6.571</td>\n",
       "      <td>0.000</td>\n",
       "      <td>0.153</td>\n",
       "      <td>0.143</td>\n",
       "      <td>0.202</td>\n",
       "      <td>0.374</td>\n",
       "    </tr>\n",
       "    <tr>\n",
       "      <th>6</th>\n",
       "      <td>tr</td>\n",
       "      <td>-0.049</td>\n",
       "      <td>0.037</td>\n",
       "      <td>-1.334</td>\n",
       "      <td>0.183</td>\n",
       "      <td>0.153</td>\n",
       "      <td>0.143</td>\n",
       "      <td>-0.122</td>\n",
       "      <td>0.023</td>\n",
       "    </tr>\n",
       "  </tbody>\n",
       "</table>\n",
       "</div>"
      ],
      "text/plain": [
       "       names   coef     se      T   pval     r2  adj_r2  CI[2.5%]  CI[97.5%]\n",
       "0  Intercept  0.573  0.287  1.996  0.046  0.153   0.143     0.009      1.137\n",
       "1  Sportyear  0.006  0.012  0.553  0.581  0.153   0.143    -0.016      0.029\n",
       "2  ExpectEdu  0.068  0.041  1.642  0.101  0.153   0.143    -0.013      0.149\n",
       "3         pl  0.118  0.044  2.685  0.007  0.153   0.143     0.032      0.204\n",
       "4         al  0.138  0.052  2.684  0.008  0.153   0.143     0.037      0.240\n",
       "5         ss  0.288  0.044  6.571  0.000  0.153   0.143     0.202      0.374\n",
       "6         tr -0.049  0.037 -1.334  0.183  0.153   0.143    -0.122      0.023"
      ]
     },
     "execution_count": 47,
     "metadata": {},
     "output_type": "execute_result"
    }
   ],
   "source": [
    "import pingouin as pg\n",
    "lm = pg.linear_regression(df[['Sportyear','ExpectEdu',\n",
    "                             'pl','al','ss','tr']],\n",
    "                         df['achievement'])\n",
    "lm.round(3)"
   ]
  },
  {
   "cell_type": "code",
   "execution_count": null,
   "id": "c93a9e48",
   "metadata": {},
   "outputs": [],
   "source": []
  },
  {
   "cell_type": "code",
   "execution_count": null,
   "id": "fa565eb7",
   "metadata": {},
   "outputs": [],
   "source": []
  },
  {
   "cell_type": "code",
   "execution_count": null,
   "id": "60c4b899",
   "metadata": {},
   "outputs": [],
   "source": []
  }
 ],
 "metadata": {
  "kernelspec": {
   "display_name": "Python 3 (ipykernel)",
   "language": "python",
   "name": "python3"
  },
  "language_info": {
   "codemirror_mode": {
    "name": "ipython",
    "version": 3
   },
   "file_extension": ".py",
   "mimetype": "text/x-python",
   "name": "python",
   "nbconvert_exporter": "python",
   "pygments_lexer": "ipython3",
   "version": "3.9.12"
  }
 },
 "nbformat": 4,
 "nbformat_minor": 5
}
